{
 "cells": [
  {
   "cell_type": "markdown",
   "id": "ee167012",
   "metadata": {
    "papermill": {
     "duration": 0.002859,
     "end_time": "2025-03-17T18:30:20.665357",
     "exception": false,
     "start_time": "2025-03-17T18:30:20.662498",
     "status": "completed"
    },
    "tags": []
   },
   "source": [
    "# Github & Imports"
   ]
  },
  {
   "cell_type": "code",
   "execution_count": null,
   "id": "d499d57b",
   "metadata": {
    "execution": {
     "iopub.execute_input": "2025-03-17T18:30:23.451290Z",
     "iopub.status.busy": "2025-03-17T18:30:23.451028Z",
     "iopub.status.idle": "2025-03-17T18:30:53.187465Z",
     "shell.execute_reply": "2025-03-17T18:30:53.186715Z"
    },
    "papermill": {
     "duration": 29.7423,
     "end_time": "2025-03-17T18:30:53.189089",
     "exception": false,
     "start_time": "2025-03-17T18:30:23.446789",
     "status": "completed"
    },
    "tags": []
   },
   "outputs": [],
   "source": [
    "import os\n",
    "import sys\n",
    "import os\n",
    "import cv2\n",
    "import numpy as np\n",
    "import matplotlib.pyplot as plt\n",
    "\n",
    "import torch\n",
    "from torchvision import datasets, transforms\n",
    "from torch.utils.data import DataLoader\n",
    "\n",
    "from tensorflow.keras.preprocessing.image import ImageDataGenerator # type: ignore\n",
    "\n",
    "from src.config import *\n",
    "from src.data import *\n",
    "from src.models.efficientnet import EfficientNetB5Custom, EfficientNetB0, EfficientNetB5, EfficientNetB7, EfficientNetB4\n",
    "from src.models.resnet18 import ResNet18_v2\n",
    "from src.models.ensembling import Ensembling\n",
    "from src.models.simpleCNN import SimpleCNN\n",
    "from src.utils import *\n",
    "from src.data import OriginalOAIDataset, DatasetExperiment1\n",
    "from src.train import train, train_model, test_model\n",
    "from src.trainers.classification import Classification, ClassificationAdamax\n",
    "import wandb\n",
    "# Set random seeds\n",
    "torch.manual_seed(RANDOM_SEED)\n",
    "np.random.seed(RANDOM_SEED)\n",
    "torch.cuda.manual_seed(RANDOM_SEED)"
   ]
  },
  {
   "cell_type": "markdown",
   "id": "fef41f6c",
   "metadata": {
    "papermill": {
     "duration": 0.003592,
     "end_time": "2025-03-17T18:30:53.196970",
     "exception": false,
     "start_time": "2025-03-17T18:30:53.193378",
     "status": "completed"
    },
    "tags": []
   },
   "source": [
    "# Training"
   ]
  },
  {
   "cell_type": "code",
   "execution_count": null,
   "id": "734c9c28",
   "metadata": {
    "execution": {
     "iopub.execute_input": "2025-03-17T18:30:53.205730Z",
     "iopub.status.busy": "2025-03-17T18:30:53.205098Z",
     "iopub.status.idle": "2025-03-17T18:30:54.590876Z",
     "shell.execute_reply": "2025-03-17T18:30:54.589941Z"
    },
    "papermill": {
     "duration": 1.391498,
     "end_time": "2025-03-17T18:30:54.592241",
     "exception": false,
     "start_time": "2025-03-17T18:30:53.200743",
     "status": "completed"
    },
    "tags": []
   },
   "outputs": [],
   "source": [
    "from src.data import DataGatos\n",
    "\n",
    "BATCH_SIZE = 3\n",
    "LEARNING_RATE = 0.0001\n",
    "FACTOR = 0.1\n",
    "L1 = 0.00\n",
    "L2 = 0.00\n",
    "PATIENCE = 5\n",
    "BETAS=(0.9, 0.999)\n",
    "LOCAL = True\n",
    "# Regularización L1 y L2\n",
    "device = torch.device(\"cuda\" if torch.cuda.is_available() else \"cpu\")\n",
    "# wandb 254f72e7bdeec44797ba1b2a91ebbc63900b89f4\n",
    "# /kaggle/input/aug-oai-capitulo3/augmented_oai\n",
    "DATASET_PATH = '../../input/aug-oai-capitulo3/augmented_oai'\n",
    "DATASET_PATH = 'dataset/experimento1/split_oai'\n",
    "train_dataset = DataGatos(batch_size=BATCH_SIZE).get_dataloader('train')\n",
    "val_dataset = DataGatos(batch_size=BATCH_SIZE).get_dataloader('val')\n",
    "#model =ResNet18_v2(n_classes = 5)\n",
    "model_state = torch.load(r'models\\OAI Mendeley\\best_model_EfficientNetB5Custom_epoch_2.pt',map_location=torch.device('cpu'), weights_only=False)\n",
    "model = EfficientNetB5Custom(num_classes=5, pretrained=False)\n",
    "model.load_state_dict(model_state)\n",
    "device = torch.device(\"cuda\" if torch.cuda.is_available() else \"cpu\")\n",
    "trainer = Classification(model, device, L1=L1, L2=L2, lr=LEARNING_RATE, factor=FACTOR, patience=PATIENCE, betas=BETAS)"
   ]
  },
  {
   "cell_type": "code",
   "execution_count": null,
   "id": "3484822a",
   "metadata": {},
   "outputs": [],
   "source": [
    "len(train_dataset)"
   ]
  },
  {
   "cell_type": "code",
   "execution_count": null,
   "id": "cc64b292",
   "metadata": {
    "execution": {
     "iopub.execute_input": "2025-03-17T18:30:54.601808Z",
     "iopub.status.busy": "2025-03-17T18:30:54.601526Z",
     "iopub.status.idle": "2025-03-17T19:59:21.613169Z",
     "shell.execute_reply": "2025-03-17T19:59:21.612242Z"
    },
    "papermill": {
     "duration": 5308.145493,
     "end_time": "2025-03-17T19:59:22.742082",
     "exception": false,
     "start_time": "2025-03-17T18:30:54.596589",
     "status": "completed"
    },
    "tags": []
   },
   "outputs": [],
   "source": [
    "train(model=model, train_loader=train_dataset, val_loader=val_dataset, trainer=trainer, epochs=2, device=device, wdb= False)"
   ]
  },
  {
   "cell_type": "code",
   "execution_count": null,
   "id": "6f6187dd",
   "metadata": {
    "execution": {
     "iopub.execute_input": "2025-03-17T19:59:25.445209Z",
     "iopub.status.busy": "2025-03-17T19:59:25.444912Z",
     "iopub.status.idle": "2025-03-17T20:00:52.700575Z",
     "shell.execute_reply": "2025-03-17T20:00:52.699637Z"
    },
    "papermill": {
     "duration": 89.166464,
     "end_time": "2025-03-17T20:00:53.219387",
     "exception": false,
     "start_time": "2025-03-17T19:59:24.052923",
     "status": "completed"
    },
    "tags": []
   },
   "outputs": [],
   "source": [
    "test_model(model, train_dataset, trainer, device)"
   ]
  }
 ],
 "metadata": {
  "kaggle": {
   "accelerator": "none",
   "dataSources": [
    {
     "datasetId": 6786867,
     "sourceId": 10917159,
     "sourceType": "datasetVersion"
    },
    {
     "datasetId": 6893204,
     "sourceId": 11062856,
     "sourceType": "datasetVersion"
    }
   ],
   "dockerImageVersionId": 30919,
   "isGpuEnabled": false,
   "isInternetEnabled": true,
   "language": "python",
   "sourceType": "notebook"
  },
  "kernelspec": {
   "display_name": "tfg",
   "language": "python",
   "name": "python3"
  },
  "language_info": {
   "codemirror_mode": {
    "name": "ipython",
    "version": 3
   },
   "file_extension": ".py",
   "mimetype": "text/x-python",
   "name": "python",
   "nbconvert_exporter": "python",
   "pygments_lexer": "ipython3",
   "version": "3.9.21"
  },
  "papermill": {
   "default_parameters": {},
   "duration": 5444.896868,
   "end_time": "2025-03-17T20:01:02.956433",
   "environment_variables": {},
   "exception": null,
   "input_path": "__notebook__.ipynb",
   "output_path": "__notebook__.ipynb",
   "parameters": {},
   "start_time": "2025-03-17T18:30:18.059565",
   "version": "2.6.0"
  }
 },
 "nbformat": 4,
 "nbformat_minor": 5
}
