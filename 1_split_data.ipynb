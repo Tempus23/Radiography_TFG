{
 "cells": [
  {
   "cell_type": "markdown",
   "metadata": {},
   "source": [
    "Importar librerias (Ejecutar 1 unica vez)"
   ]
  },
  {
   "cell_type": "code",
   "execution_count": null,
   "metadata": {},
   "outputs": [
    {
     "ename": "ModuleNotFoundError",
     "evalue": "No module named 'config'",
     "output_type": "error",
     "traceback": [
      "\u001b[1;31m---------------------------------------------------------------------------\u001b[0m",
      "\u001b[1;31mModuleNotFoundError\u001b[0m                       Traceback (most recent call last)",
      "Cell \u001b[1;32mIn[2], line 6\u001b[0m\n\u001b[0;32m      4\u001b[0m os\u001b[38;5;241m.\u001b[39mchdir(\u001b[38;5;124m\"\u001b[39m\u001b[38;5;124m../../\u001b[39m\u001b[38;5;124m\"\u001b[39m)\n\u001b[0;32m      5\u001b[0m \u001b[38;5;28;01mimport\u001b[39;00m \u001b[38;5;21;01mrandom\u001b[39;00m\n\u001b[1;32m----> 6\u001b[0m \u001b[38;5;28;01mfrom\u001b[39;00m \u001b[38;5;21;01mconfig\u001b[39;00m \u001b[38;5;28;01mimport\u001b[39;00m \u001b[38;5;241m*\u001b[39m\n",
      "\u001b[1;31mModuleNotFoundError\u001b[0m: No module named 'config'"
     ]
    }
   ],
   "source": [
    "import os\n",
    "import sys\n",
    "sys.path.append(\"..\")\n",
    "os.chdir(\"../../\")\n",
    "import random\n",
    "\n"
   ]
  },
  {
   "cell_type": "code",
   "execution_count": null,
   "metadata": {},
   "outputs": [],
   "source": []
  },
  {
   "cell_type": "markdown",
   "metadata": {},
   "source": []
  },
  {
   "cell_type": "code",
   "execution_count": null,
   "metadata": {},
   "outputs": [],
   "source": [
    "#Mostrar directorio actual\n",
    "DATASET_PATH = 'dataset/original_data'\n",
    "PROCESSED_DATA_PATH = 'dataset/processed_data'\n",
    "SPLIT_PATH = 'dataset/split'\n",
    "IMG_SIZE = (224, 224)\n",
    "# Establecer la semilla para reproducibilidad\n",
    "random.seed(39)\n",
    "# Crear directorios de destino si no existen\n",
    "if not os.path.exists(PROCESSED_DATA_PATH):\n",
    "    os.makedirs(PROCESSED_DATA_PATH)"
   ]
  },
  {
   "cell_type": "code",
   "execution_count": null,
   "metadata": {},
   "outputs": [],
   "source": [
    "print(os.listdir())\n",
    "# Cambiar directorio os al padre\n",
    "os.chdir(\"../..\")\n",
    "print(os.listdir())"
   ]
  },
  {
   "cell_type": "code",
   "execution_count": null,
   "metadata": {},
   "outputs": [],
   "source": [
    "# Crear directorios de destino si no existen\n",
    "if not os.path.exists(PROCESSED_DATA_PATH):\n",
    "    os.makedirs(PROCESSED_DATA_PATH)"
   ]
  },
  {
   "cell_type": "code",
   "execution_count": null,
   "metadata": {},
   "outputs": [],
   "source": [
    "from models import ResNet18"
   ]
  },
  {
   "cell_type": "code",
   "execution_count": null,
   "metadata": {},
   "outputs": [],
   "source": [
    "# Crear directorios de destino si no existen\n",
    "if not os.path.exists(PROCESSED_DATA_PATH):\n",
    "    os.makedirs(PROCESSED_DATA_PATH)\n",
    "\n",
    "# Directorios para cada clase\n",
    "classes = [d for d in os.listdir(DATASET_PATH) if os.path.isdir(os.path.join(DATASET_PATH, d))]\n",
    "for c in classes:\n",
    "    path = os.path.join(PROCESSED_DATA_PATH, c)\n",
    "    if not os.path.exists(path):\n",
    "        os.makedirs(path)\n",
    "\n",
    "# # Preprocesar imagenes (Aumentar contraste, reducir ruido, normalizar tamaño)\n",
    "# for class_name in classes:\n",
    "#     class_dir = DATASET_PATH + '/' + class_name\n",
    "#     split_class_dir = os.path.join(PROCESSED_DATA_PATH, class_name)\n",
    "\n",
    "#     # Preprocess images\n",
    "#     for img_name in os.listdir(class_dir):\n",
    "#         img_path = os.path.join(class_dir, img_name)\n",
    "#         try:\n",
    "#             img = cv2.imread(img_path)\n",
    "\n",
    "#             # Normalizar tamaño\n",
    "#             img = cv2.resize(img, IMG_SIZE)\n",
    "            \n",
    "#             # Filtro de reducción de ruido (filtro gaussiano)\n",
    "#             img = cv2.GaussianBlur(img, (5, 5), 0)\n",
    "\n",
    "#             # Mejora del contraste utilizando la equalización del histograma en el canal YCrCb\n",
    "#             ycrcb = cv2.cvtColor(img, cv2.COLOR_BGR2YCrCb)\n",
    "#             ycrcb[:, :, 0] = cv2.equalizeHist(ycrcb[:, :, 0])\n",
    "#             img = cv2.cvtColor(ycrcb, cv2.COLOR_YCrCb2BGR)\n",
    "\n",
    "#              # Guardar imagen procesada\n",
    "#             cv2.imwrite(os.path.join(split_class_dir, img_name), img)\n",
    "#         except:\n",
    "#             print(f'Error al leer la imagen {img_path}')\n",
    "#             continue\n",
    "\n",
    "# Crear conjuntos de entrenamiento, validación y prueba\n",
    "porcentaje_val = 0.15\n",
    "porcentaje_test = 0.15\n",
    "\n",
    "def crear_directorios_destino(ruta_destino, conjuntos, clases):\n",
    "    for conjunto in conjuntos:\n",
    "        for clase in clases:\n",
    "            ruta_clase_destino = os.path.join(ruta_destino, conjunto, clase)\n",
    "            os.makedirs(ruta_clase_destino, exist_ok=True)\n",
    "\n",
    "conjuntos = ['train', 'val', 'test']\n",
    "crear_directorios_destino(SPLIT_PATH, conjuntos, classes)\n",
    "print(\"Dividiendo el dataset en conjuntos de entrenamiento, validación y prueba...\")\n",
    "def dividir_dataset(ruta_dataset, ruta_destino, porcentaje_val=0.15, porcentaje_test=0.15):\n",
    "    clases = [d for d in os.listdir(ruta_dataset) if os.path.isdir(os.path.join(ruta_dataset, d))]\n",
    "    \n",
    "    for clase in clases:\n",
    "        ruta_clase_origen = os.path.join(ruta_dataset, clase)\n",
    "        imagenes = [f for f in os.listdir(ruta_clase_origen) if os.path.isfile(os.path.join(ruta_clase_origen, f))]\n",
    "        random.shuffle(imagenes)\n",
    "        \n",
    "        num_total = len(imagenes)\n",
    "        num_val = int(num_total * porcentaje_val)\n",
    "        num_test = int(num_total * porcentaje_test)\n",
    "        num_train = num_total - num_val - num_test\n",
    "        \n",
    "        imagenes_train = imagenes[:num_train]\n",
    "        imagenes_val = imagenes[num_train:num_train+num_val]\n",
    "        imagenes_test = imagenes[num_train+num_val:]\n",
    "        \n",
    "        # Copiar imágenes a las carpetas correspondientes\n",
    "        for imagen in imagenes_train:\n",
    "            ruta_origen = os.path.join(ruta_clase_origen, imagen)\n",
    "            ruta_destino_train = os.path.join(ruta_destino, 'train', clase, imagen)\n",
    "            shutil.copyfile(ruta_origen, ruta_destino_train)\n",
    "        \n",
    "        for imagen in imagenes_val:\n",
    "            ruta_origen = os.path.join(ruta_clase_origen, imagen)\n",
    "            ruta_destino_val = os.path.join(ruta_destino, 'val', clase, imagen)\n",
    "            shutil.copyfile(ruta_origen, ruta_destino_val)\n",
    "        \n",
    "        for imagen in imagenes_test:\n",
    "            ruta_origen = os.path.join(ruta_clase_origen, imagen)\n",
    "            ruta_destino_test = os.path.join(ruta_destino, 'test', clase, imagen)\n",
    "            shutil.copyfile(ruta_origen, ruta_destino_test)\n",
    "\n",
    "dividir_dataset(PROCESSED_DATA_PATH, SPLIT_PATH, porcentaje_val, porcentaje_test)\n",
    "\n",
    "\n",
    "# Aumentar datos\n",
    "from torchvision import datasets, transforms\n",
    "from torchvision.transforms import v2\n",
    "\n",
    "data_gen = ImageDataGenerator(\n",
    "    rotation_range=20,\n",
    "    width_shift_range=0.2,\n",
    "    height_shift_range=0.2,\n",
    "    shear_range=0.2,\n",
    "    zoom_range=0.2,\n",
    "    horizontal_flip=True,\n",
    "    fill_mode='nearest'\n",
    ")\n",
    "train_dir = os.path.join(SPLIT_PATH, \"train\")\n",
    "\n",
    "print(\"Generando imágenes aumentadas...\")\n",
    "# Guardar imágenes aumentadas en los directorios de entrenamiento\n",
    "for class_name in classes:\n",
    "    class_dir = os.path.join(train_dir, class_name)\n",
    "    num_augmentations = 1 + classes.index(class_name)\n",
    "    for img_name in os.listdir(class_dir):\n",
    "        img_path = os.path.join(class_dir, img_name)\n",
    "        img = cv2.imread(img_path)\n",
    "        \n",
    "        # Verificar si la imagen fue leída correctamente\n",
    "        if img is None:\n",
    "            print(f\"Error al leer la imagen {img_path}. Puede que no sea una imagen válida o esté dañada.\")\n",
    "            continue\n",
    "        \n",
    "        # Convertir la imagen a un numpy array\n",
    "        img_array = np.array(img)\n",
    "        img_array = img_array.reshape((1,) + img_array.shape)  # Añadir dimensión batch\n",
    "        # Generar imágenes aumentadas\n",
    "        for i in range(num_augmentations):\n",
    "            for batch in data_gen.flow(img_array, batch_size=1, save_to_dir=class_dir, save_prefix='aug', save_format='png'):\n",
    "                break\n",
    "    print(f\"Se han generado {num_augmentations} imágenes aumentadas para la clase {class_name}\")\n",
    "  "
   ]
  }
 ],
 "metadata": {
  "kernelspec": {
   "display_name": "Python 3",
   "language": "python",
   "name": "python3"
  },
  "language_info": {
   "codemirror_mode": {
    "name": "ipython",
    "version": 3
   },
   "file_extension": ".py",
   "mimetype": "text/x-python",
   "name": "python",
   "nbconvert_exporter": "python",
   "pygments_lexer": "ipython3",
   "version": "3.10.4"
  }
 },
 "nbformat": 4,
 "nbformat_minor": 2
}
