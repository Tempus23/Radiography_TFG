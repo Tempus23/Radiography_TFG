{
 "cells": [
  {
   "cell_type": "markdown",
   "metadata": {},
   "source": [
    "Importar librerias"
   ]
  },
  {
   "cell_type": "code",
   "execution_count": 1,
   "metadata": {},
   "outputs": [],
   "source": [
    "import os\n",
    "import sys\n",
    "import random\n",
    "from src.config import *\n",
    "from src.data import *\n"
   ]
  },
  {
   "cell_type": "markdown",
   "metadata": {},
   "source": [
    "Mendeley 224"
   ]
  },
  {
   "cell_type": "code",
   "execution_count": 2,
   "metadata": {},
   "outputs": [
    {
     "name": "stdout",
     "output_type": "stream",
     "text": [
      "╒═════════╤══════╤══════╤══════╤═════╤═════╕\n",
      "│ Clase   │    0 │    1 │    2 │   3 │   4 │\n",
      "╞═════════╪══════╪══════╪══════╪═════╪═════╡\n",
      "│ train   │ 2286 │ 1046 │ 1516 │ 757 │ 173 │\n",
      "├─────────┼──────┼──────┼──────┼─────┼─────┤\n",
      "│ val     │  328 │  153 │  212 │ 106 │  27 │\n",
      "├─────────┼──────┼──────┼──────┼─────┼─────┤\n",
      "│ test    │  639 │  296 │  447 │ 223 │  51 │\n",
      "╘═════════╧══════╧══════╧══════╧═════╧═════╛\n"
     ]
    }
   ],
   "source": [
    "img = explorar_split_data(MENDELEY_OAI_224_SPLIT_PATH)\n"
   ]
  },
  {
   "cell_type": "code",
   "execution_count": 3,
   "metadata": {},
   "outputs": [
    {
     "name": "stdout",
     "output_type": "stream",
     "text": [
      "╒═════════╤════════════╕\n",
      "│   Clase │   Cantidad │\n",
      "╞═════════╪════════════╡\n",
      "│       0 │        514 │\n",
      "├─────────┼────────────┤\n",
      "│       1 │        477 │\n",
      "├─────────┼────────────┤\n",
      "│       2 │        232 │\n",
      "├─────────┼────────────┤\n",
      "│       3 │        221 │\n",
      "├─────────┼────────────┤\n",
      "│       4 │        206 │\n",
      "╘═════════╧════════════╛\n"
     ]
    }
   ],
   "source": [
    "img = explorar_data(MENDELEY_EXPERT1_PATH)"
   ]
  },
  {
   "cell_type": "code",
   "execution_count": 4,
   "metadata": {},
   "outputs": [
    {
     "name": "stdout",
     "output_type": "stream",
     "text": [
      "╒═════════╤════════════╕\n",
      "│   Clase │   Cantidad │\n",
      "╞═════════╪════════════╡\n",
      "│       0 │        503 │\n",
      "├─────────┼────────────┤\n",
      "│       1 │        488 │\n",
      "├─────────┼────────────┤\n",
      "│       2 │        232 │\n",
      "├─────────┼────────────┤\n",
      "│       3 │        221 │\n",
      "├─────────┼────────────┤\n",
      "│       4 │        206 │\n",
      "╘═════════╧════════════╛\n"
     ]
    }
   ],
   "source": [
    "img = explorar_data(MENDELEY_EXPERT2_PATH)"
   ]
  }
 ],
 "metadata": {
  "kernelspec": {
   "display_name": "Python 3",
   "language": "python",
   "name": "python3"
  },
  "language_info": {
   "codemirror_mode": {
    "name": "ipython",
    "version": 3
   },
   "file_extension": ".py",
   "mimetype": "text/x-python",
   "name": "python",
   "nbconvert_exporter": "python",
   "pygments_lexer": "ipython3",
   "version": "3.10.4"
  }
 },
 "nbformat": 4,
 "nbformat_minor": 2
}
