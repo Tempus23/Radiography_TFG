{
 "cells": [
  {
   "cell_type": "markdown",
   "id": "81906e61",
   "metadata": {
    "papermill": {
     "duration": 0.004361,
     "end_time": "2025-05-09T21:20:19.757420",
     "exception": false,
     "start_time": "2025-05-09T21:20:19.753059",
     "status": "completed"
    },
    "tags": []
   },
   "source": [
    "# Imports and utility"
   ]
  },
  {
   "cell_type": "code",
   "execution_count": 1,
   "id": "bf770e92",
   "metadata": {
    "_cell_guid": "b1076dfc-b9ad-4769-8c92-a6c4dae69d19",
    "_uuid": "8f2839f25d086af736a60e9eeb907d3b93b6e0e5",
    "execution": {
     "iopub.execute_input": "2025-05-09T21:20:19.765843Z",
     "iopub.status.busy": "2025-05-09T21:20:19.765556Z",
     "iopub.status.idle": "2025-05-09T21:20:35.017261Z",
     "shell.execute_reply": "2025-05-09T21:20:35.016590Z"
    },
    "papermill": {
     "duration": 15.257561,
     "end_time": "2025-05-09T21:20:35.018790",
     "exception": false,
     "start_time": "2025-05-09T21:20:19.761229",
     "status": "completed"
    },
    "tags": []
   },
   "outputs": [],
   "source": [
    "#d8f53b61969adf7ee621c216f680b707\n",
    "import numpy as np\n",
    "import pandas as pd\n",
    "import os\n",
    "import matplotlib.pyplot as plt\n",
    "import seaborn as sns\n",
    "import cv2\n",
    "import keras_hub\n",
    "from sklearn.metrics import confusion_matrix, classification_report, roc_curve, auc\n",
    "import tensorflow as tf\n",
    "from tensorflow import keras\n",
    "from tensorflow.keras import layers, models\n",
    "from tensorflow.keras.layers import (Input, Conv2D, MaxPooling2D, Flatten, Dense, Dropout,\n",
    "                                     BatchNormalization, Activation, GlobalAveragePooling2D)\n",
    "from tensorflow.keras.applications import VGG16, VGG19, ResNet50, ResNet152, EfficientNetB0, DenseNet121, InceptionV3\n",
    "from tensorflow.keras.models import Model\n",
    "from tensorflow.keras.preprocessing.image import ImageDataGenerator\n",
    "from tensorflow.keras.callbacks import EarlyStopping, ReduceLROnPlateau, LearningRateScheduler, ModelCheckpoint\n",
    "from tensorflow.keras import optimizers\n",
    "\n",
    "train_dir = '/kaggle/input/knee-osteoarthritis-dataset-with-severity/train'\n",
    "val_dir = '/kaggle/input/knee-osteoarthritis-dataset-with-severity/val'\n",
    "test_dir = '/kaggle/input/knee-osteoarthritis-dataset-with-severity/test'\n",
    "auto_test = '/kaggle/input/knee-osteoarthritis-dataset-with-severity/auto_test'\n",
    "cat_dir = '/kaggle/input/cat-knee/clean'\n",
    "\n",
    "IMG_SIZE = (224, 224)\n",
    "BATCH_SIZE = 32\n",
    "SEED = 66\n"
   ]
  },
  {
   "cell_type": "code",
   "execution_count": 2,
   "id": "39396550",
   "metadata": {
    "execution": {
     "iopub.execute_input": "2025-05-09T21:20:35.027442Z",
     "iopub.status.busy": "2025-05-09T21:20:35.026967Z",
     "iopub.status.idle": "2025-05-09T21:20:35.031793Z",
     "shell.execute_reply": "2025-05-09T21:20:35.030996Z"
    },
    "papermill": {
     "duration": 0.010248,
     "end_time": "2025-05-09T21:20:35.033099",
     "exception": false,
     "start_time": "2025-05-09T21:20:35.022851",
     "status": "completed"
    },
    "tags": []
   },
   "outputs": [],
   "source": [
    "import pandas as pd\n",
    "import os\n",
    "\n",
    "def create_dataframe_from_directory(base_dir, regression=False):\n",
    "    data = []\n",
    "    for label_str in sorted(os.listdir(base_dir)):\n",
    "        label_path = os.path.join(base_dir, label_str)\n",
    "        if not os.path.isdir(label_path):\n",
    "            continue\n",
    "        label = float(label_str) if regression else label_str\n",
    "        for fname in os.listdir(label_path):\n",
    "            data.append({\n",
    "                'filename': os.path.join(label_str, fname),  # ruta relativa\n",
    "                'label': label  # KL debe ser numérico para regresión\n",
    "            })\n",
    "    return pd.DataFrame(data)"
   ]
  },
  {
   "cell_type": "code",
   "execution_count": 3,
   "id": "4f1e7ead",
   "metadata": {
    "execution": {
     "iopub.execute_input": "2025-05-09T21:20:35.041039Z",
     "iopub.status.busy": "2025-05-09T21:20:35.040833Z",
     "iopub.status.idle": "2025-05-09T21:20:54.923538Z",
     "shell.execute_reply": "2025-05-09T21:20:54.922776Z"
    },
    "papermill": {
     "duration": 19.888182,
     "end_time": "2025-05-09T21:20:54.924907",
     "exception": false,
     "start_time": "2025-05-09T21:20:35.036725",
     "status": "completed"
    },
    "tags": []
   },
   "outputs": [
    {
     "name": "stdout",
     "output_type": "stream",
     "text": [
      "Found 5778 images belonging to 5 classes.\n",
      "Found 826 images belonging to 5 classes.\n",
      "Found 1656 images belonging to 5 classes.\n",
      "Found 83 images belonging to 5 classes.\n",
      "Found 5778 validated image filenames.\n",
      "Found 826 validated image filenames.\n",
      "Found 83 validated image filenames.\n"
     ]
    }
   ],
   "source": [
    "\n",
    "train_datagen = ImageDataGenerator(\n",
    "    rescale=1./255,\n",
    "    rotation_range=10,\n",
    "    width_shift_range=0.1,\n",
    "    height_shift_range=0.1,\n",
    "    zoom_range=0.1,\n",
    "    horizontal_flip=True\n",
    ")\n",
    "\n",
    "val_test_datagen = ImageDataGenerator(rescale=1./255)\n",
    "\n",
    "train_generator = train_datagen.flow_from_directory(\n",
    "    train_dir,\n",
    "    target_size=IMG_SIZE,\n",
    "    batch_size=BATCH_SIZE,\n",
    "    class_mode='categorical',\n",
    "    shuffle=True,\n",
    "    seed=SEED\n",
    ")\n",
    "\n",
    "val_generator = val_test_datagen.flow_from_directory(\n",
    "    val_dir,\n",
    "    target_size=IMG_SIZE,\n",
    "    batch_size=BATCH_SIZE,\n",
    "    class_mode='categorical',\n",
    "    shuffle=False\n",
    ")\n",
    "\n",
    "test_generator = val_test_datagen.flow_from_directory(\n",
    "    test_dir,\n",
    "    target_size=IMG_SIZE,\n",
    "    batch_size=BATCH_SIZE,\n",
    "    class_mode='categorical',\n",
    "    shuffle=False\n",
    ")\n",
    "\n",
    "cat_generator = val_test_datagen.flow_from_directory(\n",
    "    cat_dir,\n",
    "    target_size=IMG_SIZE,\n",
    "    batch_size=BATCH_SIZE,\n",
    "    class_mode='categorical',\n",
    "    shuffle=False\n",
    ")\n",
    "\n",
    "\n",
    "train_df = create_dataframe_from_directory(train_dir)\n",
    "val_df = create_dataframe_from_directory(val_dir)\n",
    "test_df = create_dataframe_from_directory(test_dir)\n",
    "cat_df = create_dataframe_from_directory(cat_dir)\n",
    "\n",
    "datagen = ImageDataGenerator(rescale=1./255)\n",
    "\n",
    "train_generator_reg = datagen.flow_from_dataframe(\n",
    "    dataframe=train_df,\n",
    "    directory=train_dir,  # importante\n",
    "    x_col='filename',\n",
    "    y_col='label',\n",
    "    target_size=IMG_SIZE,\n",
    "    batch_size=16,\n",
    "    class_mode='raw',\n",
    "    shuffle=True\n",
    ")\n",
    "\n",
    "val_generator_reg = datagen.flow_from_dataframe(\n",
    "    dataframe=val_df,\n",
    "    directory=val_dir,\n",
    "    x_col='filename',\n",
    "    y_col='label',\n",
    "    target_size=IMG_SIZE,\n",
    "    batch_size=16,\n",
    "    class_mode='raw',\n",
    "    shuffle=False\n",
    ")\n",
    "\n",
    "cat_generator_reg = datagen.flow_from_dataframe(\n",
    "    dataframe=cat_df,\n",
    "    directory=cat_dir,\n",
    "    x_col='filename',\n",
    "    y_col='label',\n",
    "    target_size=IMG_SIZE,\n",
    "    batch_size=16,\n",
    "    class_mode='raw',\n",
    "    shuffle=False\n",
    ")\n",
    "\n"
   ]
  },
  {
   "cell_type": "code",
   "execution_count": 4,
   "id": "5c11e8c6",
   "metadata": {
    "execution": {
     "iopub.execute_input": "2025-05-09T21:20:54.934262Z",
     "iopub.status.busy": "2025-05-09T21:20:54.934006Z",
     "iopub.status.idle": "2025-05-09T21:20:54.942196Z",
     "shell.execute_reply": "2025-05-09T21:20:54.941400Z"
    },
    "papermill": {
     "duration": 0.014406,
     "end_time": "2025-05-09T21:20:54.943566",
     "exception": false,
     "start_time": "2025-05-09T21:20:54.929160",
     "status": "completed"
    },
    "tags": []
   },
   "outputs": [],
   "source": [
    "from sklearn.metrics import mean_absolute_error, accuracy_score\n",
    "import numpy as np\n",
    "import tensorflow as tf\n",
    "\n",
    "class CatValidationCallback(tf.keras.callbacks.Callback):\n",
    "    def __init__(self, cat_generator, regresion=False, filepath='best_model_cat.keras'):\n",
    "        super().__init__()\n",
    "        self.cat_generator = cat_generator\n",
    "        self.epoch_metrics = []\n",
    "        self.regresion = regresion\n",
    "        self.filepath = filepath\n",
    "        # Inicializamos best_score y best_loss\n",
    "        if regresion:\n",
    "            self.best_score = 0.0    # queremos maximizar accuracy\n",
    "            self.best_loss  = np.inf # y minimizar MAE\n",
    "        else:\n",
    "            self.best_score = 0.0    # queremos maximizar accuracy\n",
    "            self.best_loss  = np.inf # y minimizar categorical loss\n",
    "\n",
    "    def on_epoch_end(self, epoch, logs=None):\n",
    "        # Predicciones\n",
    "        preds = self.model.predict(self.cat_generator, verbose=0)\n",
    "\n",
    "        if self.regresion:\n",
    "            # Regresión: calculamos MAE + accuracy sobre clases redondeadas\n",
    "            y_pred = preds.flatten()\n",
    "            y_true = self.cat_generator.labels\n",
    "            loss = mean_absolute_error(y_true, y_pred)\n",
    "            y_pred_class = np.clip(np.round(y_pred), 0, 4).astype(int)\n",
    "            y_true_class = np.clip(np.round(y_true), 0, 4).astype(int)\n",
    "            acc = accuracy_score(y_true_class, y_pred_class)\n",
    "            score = acc\n",
    "        else:\n",
    "            # Clasificación: evalúa el loss y la accuracy\n",
    "            loss, acc = self.model.evaluate(self.cat_generator, verbose=0)\n",
    "            preds_class = np.argmax(preds, axis=1)\n",
    "            y_true = self.cat_generator.classes\n",
    "            # para consistency, recalculamos acc con sklearn\n",
    "            acc = accuracy_score(y_true, preds_class)\n",
    "            score = acc\n",
    "\n",
    "        # Guardar métricas\n",
    "        self.epoch_metrics.append({\n",
    "            'epoch': epoch + 1,\n",
    "            'val_cat_loss': loss,\n",
    "            'val_cat_accuracy': acc\n",
    "        })\n",
    "\n",
    "        # Mostrar por consola\n",
    "        tag = \"MAE\" if self.regresion else \"Loss\"\n",
    "        print(f\"🐾 [Cat Val] {tag}: {loss:.4f} | Accuracy: {acc:.4f}\")\n",
    "\n",
    "        # Comprobamos mejora: primero por score, si empate por loss\n",
    "        improved = False\n",
    "        if score > self.best_score:\n",
    "            improved = True\n",
    "        elif score == self.best_score and loss < self.best_loss:\n",
    "            improved = True\n",
    "\n",
    "        # Si mejoró, guardamos modelo y actualizamos referencias\n",
    "        if improved:\n",
    "            self.best_score = score\n",
    "            self.best_loss  = loss\n",
    "            self.model.save(self.filepath)\n",
    "            print(f\"📦 Modelo mejorado guardado en {self.filepath}\")\n"
   ]
  },
  {
   "cell_type": "code",
   "execution_count": 5,
   "id": "0ac8d6d2",
   "metadata": {
    "execution": {
     "iopub.execute_input": "2025-05-09T21:20:54.952061Z",
     "iopub.status.busy": "2025-05-09T21:20:54.951831Z",
     "iopub.status.idle": "2025-05-09T21:20:54.956829Z",
     "shell.execute_reply": "2025-05-09T21:20:54.956028Z"
    },
    "papermill": {
     "duration": 0.010643,
     "end_time": "2025-05-09T21:20:54.958134",
     "exception": false,
     "start_time": "2025-05-09T21:20:54.947491",
     "status": "completed"
    },
    "tags": []
   },
   "outputs": [],
   "source": [
    "from tensorflow.keras.callbacks import ModelCheckpoint\n",
    "\n",
    "def get_callbacks(regression=False, cat_gen=None):\n",
    "  cat_val_cb = CatValidationCallback(cat_gen, regresion=regression)\n",
    "  \n",
    "\n",
    "  checkpoint_cb = ModelCheckpoint(\n",
    "    filepath='best_model.keras',\n",
    "    monitor='val_accuracy',         # nombre de la métrica a monitorizar\n",
    "    mode='max',                     # porque buscamos la mayor precisión\n",
    "    save_best_only=True,\n",
    "    save_weights_only=False,\n",
    "    verbose=1\n",
    "  )\n",
    "  checkpoint_cb_reg = ModelCheckpoint(\n",
    "    filepath='best_model.keras',\n",
    "    monitor='val_loss',\n",
    "    mode='min',\n",
    "    save_best_only=True,\n",
    "    save_weights_only=False,\n",
    "    verbose=1\n",
    "  )\n",
    "  if regression:\n",
    "    callbacks = [\n",
    "        EarlyStopping(patience=10, restore_best_weights=True),\n",
    "        ReduceLROnPlateau(factor=0.5, patience=5, verbose=1),\n",
    "        cat_val_cb,\n",
    "        checkpoint_cb_reg\n",
    "    ]\n",
    "  else:\n",
    "    callbacks = [\n",
    "        EarlyStopping(patience=10, restore_best_weights=True),\n",
    "        ReduceLROnPlateau(factor=0.5, patience=5, verbose=1),\n",
    "        cat_val_cb,\n",
    "        checkpoint_cb\n",
    "    ]\n",
    "  return callbacks\n"
   ]
  },
  {
   "cell_type": "code",
   "execution_count": 6,
   "id": "4df68817",
   "metadata": {
    "execution": {
     "iopub.execute_input": "2025-05-09T21:20:54.966518Z",
     "iopub.status.busy": "2025-05-09T21:20:54.966280Z",
     "iopub.status.idle": "2025-05-09T21:20:54.975916Z",
     "shell.execute_reply": "2025-05-09T21:20:54.975257Z"
    },
    "papermill": {
     "duration": 0.01507,
     "end_time": "2025-05-09T21:20:54.977017",
     "exception": false,
     "start_time": "2025-05-09T21:20:54.961947",
     "status": "completed"
    },
    "tags": []
   },
   "outputs": [],
   "source": [
    "from sklearn.metrics import classification_report, confusion_matrix, mean_absolute_error\n",
    "import numpy as np\n",
    "import seaborn as sns\n",
    "import matplotlib.pyplot as plt\n",
    "\n",
    "def _get_label_map(y_true, y_pred, generator=None, default_prefix='KL'):\n",
    "    \"\"\"\n",
    "    Genera label_map automáticamente.\n",
    "    - Si el generador tiene class_indices (clasificación Keras), los usa.\n",
    "    - Si no, extrae las clases únicas de y_true y y_pred.\n",
    "    - Si todo falla, crea labels 'KL 0', 'KL 1', ..., según número de clases.\n",
    "    \"\"\"\n",
    "    # Caso Keras classification_generator\n",
    "    if generator is not None and hasattr(generator, 'class_indices'):\n",
    "        # Ordenar por índice\n",
    "        sorted_items = sorted(generator.class_indices.items(), key=lambda x: x[1])\n",
    "        return [name for name, _ in sorted_items]\n",
    "    \n",
    "    # Extraer clases únicas\n",
    "    classes = np.unique(np.concatenate((y_true, y_pred)))\n",
    "    # Si son enteros consecutivos desde 0 a n-1\n",
    "    if np.array_equal(classes, np.arange(len(classes))):\n",
    "        return [f'{default_prefix} {i}' for i in classes]\n",
    "    # En caso de etiquetas no enteras o desordenadas\n",
    "    return [str(c) for c in classes]\n",
    "\n",
    "def evaluate_classification(y_true, y_pred, label_map=None, digits=4, title_suffix=''):\n",
    "    \"\"\"\n",
    "    Reporte de clasificación + matriz de confusión.\n",
    "    \"\"\"\n",
    "    if label_map is None:\n",
    "        label_map = _get_label_map(y_true, y_pred)\n",
    "    # Reporte\n",
    "    print(classification_report(\n",
    "        y_true, y_pred,\n",
    "        target_names=label_map,\n",
    "        digits=digits\n",
    "    ))\n",
    "    # Matriz de confusión\n",
    "    cm = confusion_matrix(y_true, y_pred)\n",
    "    plt.figure(figsize=(8,6))\n",
    "    sns.heatmap(\n",
    "        cm, annot=True, fmt='d', cmap='Blues',\n",
    "        xticklabels=label_map, yticklabels=label_map\n",
    "    )\n",
    "    plt.xlabel('Predicción')\n",
    "    plt.ylabel('Etiqueta verdadera')\n",
    "    if title_suffix:\n",
    "        plt.title(title_suffix)\n",
    "    plt.show()\n",
    "\n",
    "def evaluate_model(model, regression, generator, label_map=None, digits=4):\n",
    "    \"\"\"\n",
    "    Elige el modo de evaluación y asegura que label_map siempre se resuelva.\n",
    "    \"\"\"\n",
    "    # Predicciones crudas\n",
    "    preds = model.predict(generator)\n",
    "    \n",
    "    if regression:\n",
    "        # Convertir a clases\n",
    "        if hasattr(generator, 'labels'):\n",
    "            y_true_cont = np.array(generator.labels).flatten()\n",
    "        else:\n",
    "            y_true_cont = np.array(generator.classes).flatten()\n",
    "        y_pred_cont = np.array(preds).flatten()\n",
    "        \n",
    "        # MAE\n",
    "        mae = mean_absolute_error(y_true_cont, y_pred_cont)\n",
    "        print(f\"Mean Absolute Error (MAE): {mae:.{digits}f}\\n\")\n",
    "\n",
    "        y_true_class = np.clip(np.round(y_true_cont).astype(int), 0, None)\n",
    "        y_pred_class = np.clip(np.round(y_pred_cont).astype(int), 0, None)\n",
    "        # Obtener label_map adaptado al rango observado\n",
    "        if label_map is None:\n",
    "            max_label = max(y_true_class.max(), y_pred_class.max())\n",
    "            label_map = [f'KL {i}' for i in range(max_label + 1)]\n",
    "        \n",
    "        evaluate_classification(\n",
    "            y_true=y_true_class,\n",
    "            y_pred=y_pred_class,\n",
    "            label_map=label_map,\n",
    "            digits=digits,\n",
    "        )\n",
    "    else:\n",
    "        # Clasificación softmax u otra salida multiclase\n",
    "        y_pred = np.argmax(preds, axis=1)\n",
    "        y_true = generator.classes\n",
    "        \n",
    "        if label_map is None:\n",
    "            label_map = _get_label_map(y_true, y_pred, generator=generator)\n",
    "        \n",
    "        evaluate_classification(\n",
    "            y_true=y_true,\n",
    "            y_pred=y_pred,\n",
    "            label_map=label_map,\n",
    "            digits=digits\n",
    "        )\n"
   ]
  },
  {
   "cell_type": "code",
   "execution_count": 7,
   "id": "8e36708e",
   "metadata": {
    "execution": {
     "iopub.execute_input": "2025-05-09T21:20:54.985331Z",
     "iopub.status.busy": "2025-05-09T21:20:54.985132Z",
     "iopub.status.idle": "2025-05-09T21:20:54.992309Z",
     "shell.execute_reply": "2025-05-09T21:20:54.991692Z"
    },
    "papermill": {
     "duration": 0.012756,
     "end_time": "2025-05-09T21:20:54.993526",
     "exception": false,
     "start_time": "2025-05-09T21:20:54.980770",
     "status": "completed"
    },
    "tags": []
   },
   "outputs": [],
   "source": [
    "from tensorflow.keras.preprocessing.image import ImageDataGenerator\n",
    "import pandas as pd\n",
    "\n",
    "def get_datagen(\n",
    "    tarea: int,\n",
    "    path: str,\n",
    "    regression: bool = False,\n",
    "    IMG_SIZE: tuple = (224, 224),\n",
    "    BATCH_SIZE: int = 32,\n",
    "    SEED: int = 42,\n",
    "    augment: bool = False\n",
    "):\n",
    "    \"\"\"\n",
    "    Generador de imágenes para clasificación y regresión con distintos esquemas de tarea.\n",
    "\n",
    "    Parámetros:\n",
    "        tarea       – entero 0–5 que define esquema de etiquetas.\n",
    "        path        – ruta al directorio de imágenes (train/val/test u otro).\n",
    "        regression  – True para regresión (class_mode='raw'), False para clasificación.\n",
    "        IMG_SIZE    – tupla (alto, ancho).\n",
    "        BATCH_SIZE  – tamaño de lote.\n",
    "        SEED        – semilla aleatoria.\n",
    "        augment     – True para data augmentation (solo en entrenamiento).\n",
    "    \"\"\"\n",
    "    # Configurar DataGenerator\n",
    "    if augment:\n",
    "        datagen = ImageDataGenerator(\n",
    "            rescale=1./255,\n",
    "            rotation_range=10,\n",
    "            width_shift_range=0.1,\n",
    "            height_shift_range=0.1,\n",
    "            zoom_range=0.1,\n",
    "            horizontal_flip=True\n",
    "        )\n",
    "        shuffle = True\n",
    "    else:\n",
    "        datagen = ImageDataGenerator(rescale=1./255)\n",
    "        shuffle = False\n",
    "\n",
    "    # Cargar dataframe con tu función; label como float si regresión, str si clasificación\n",
    "    df = create_dataframe_from_directory(path, regression=regression)\n",
    "    # Clasificación: convertir labels a ints para procesar tareas\n",
    "    df_proc = df.copy()\n",
    "    df_proc['label'] = df_proc['label'].astype(int)\n",
    "\n",
    "    if tarea == 0:\n",
    "        # Multiclase original 0–4: no cambio\n",
    "        pass\n",
    "    elif tarea == 1:\n",
    "        df_proc['label'] = df_proc['label'].apply(\n",
    "            lambda x: 0 if x in [0,1,2] else 1 if x == 3 else 2 if x == 4 else x\n",
    "        )\n",
    "    elif tarea in [2,3,4,5]:\n",
    "        target = tarea - 1  # tarea=2->1, etc.\n",
    "        df_proc = df_proc[df_proc['label'].isin([0, target])]\n",
    "        df_proc['label'] = df_proc['label'].apply(lambda x: 1 if x == target else 0)\n",
    "    else:\n",
    "        raise ValueError(\"tarea debe ser un entero entre 0 y 5.\")\n",
    "\n",
    "    if regression:\n",
    "        # Asegurar float\n",
    "        df_proc['label'] = df_proc['label'].astype(float)\n",
    "        return datagen.flow_from_dataframe(\n",
    "            dataframe=df_proc,\n",
    "            directory=path,\n",
    "            x_col='filename',\n",
    "            y_col='label',\n",
    "            target_size=IMG_SIZE,\n",
    "            batch_size=BATCH_SIZE,\n",
    "            class_mode='raw',\n",
    "            shuffle=shuffle,\n",
    "            seed=SEED\n",
    "        )\n",
    "    # Convertir a string para class_mode='categorical'\n",
    "    df_proc['label'] = df_proc['label'].astype(str)\n",
    "    \n",
    "    # Generador de clasificación\n",
    "    return datagen.flow_from_dataframe(\n",
    "        dataframe=df_proc,\n",
    "        directory=path,\n",
    "        x_col='filename',\n",
    "        y_col='label',\n",
    "        target_size=IMG_SIZE,\n",
    "        batch_size=BATCH_SIZE,\n",
    "        class_mode='categorical',\n",
    "        shuffle=shuffle,\n",
    "        seed=SEED\n",
    "    )\n"
   ]
  },
  {
   "cell_type": "markdown",
   "id": "2e7c61e0",
   "metadata": {
    "papermill": {
     "duration": 0.003668,
     "end_time": "2025-05-09T21:20:55.001008",
     "exception": false,
     "start_time": "2025-05-09T21:20:54.997340",
     "status": "completed"
    },
    "tags": []
   },
   "source": [
    "## Experimentos a realizar\n",
    "\n",
    "Normal \n",
    "012-3-4\n",
    "0-1\n",
    "0-2\n",
    "0-3\n",
    "0-4"
   ]
  },
  {
   "cell_type": "code",
   "execution_count": 8,
   "id": "54d40f22",
   "metadata": {
    "execution": {
     "iopub.execute_input": "2025-05-09T21:20:55.009465Z",
     "iopub.status.busy": "2025-05-09T21:20:55.009223Z",
     "iopub.status.idle": "2025-05-09T21:20:55.013032Z",
     "shell.execute_reply": "2025-05-09T21:20:55.012407Z"
    },
    "papermill": {
     "duration": 0.009421,
     "end_time": "2025-05-09T21:20:55.014252",
     "exception": false,
     "start_time": "2025-05-09T21:20:55.004831",
     "status": "completed"
    },
    "tags": []
   },
   "outputs": [],
   "source": [
    "def small_cnn(num_classes = 5, regression=False):\n",
    "    activation = 'linear' if regression else 'softmax'\n",
    "    model = models.Sequential([\n",
    "        layers.Conv2D(16, (3,3), activation='relu',\n",
    "                      input_shape=(224,224,3)),\n",
    "        layers.MaxPooling2D(2,2),\n",
    "        layers.Flatten(),\n",
    "        layers.Dense(num_classes, activation='softmax')\n",
    "    ])\n",
    "    return model"
   ]
  },
  {
   "cell_type": "code",
   "execution_count": 9,
   "id": "be44ef4d",
   "metadata": {
    "execution": {
     "iopub.execute_input": "2025-05-09T21:20:55.022726Z",
     "iopub.status.busy": "2025-05-09T21:20:55.022519Z",
     "iopub.status.idle": "2025-05-09T21:20:55.026303Z",
     "shell.execute_reply": "2025-05-09T21:20:55.025744Z"
    },
    "papermill": {
     "duration": 0.009385,
     "end_time": "2025-05-09T21:20:55.027526",
     "exception": false,
     "start_time": "2025-05-09T21:20:55.018141",
     "status": "completed"
    },
    "tags": []
   },
   "outputs": [],
   "source": [
    "def cnn_mediana(num_classes, regression=False):\n",
    "    activation = 'linear' if regression else 'softmax'\n",
    "    model = models.Sequential([\n",
    "        # Primera capa convolucional\n",
    "        Conv2D(32, (3, 3), activation='relu', padding='same', input_shape=(224,224,3)),\n",
    "        MaxPooling2D((2, 2)),\n",
    "        # Segunda capa convolucional\n",
    "        Conv2D(64, (3, 3), activation='relu', padding='same'),\n",
    "        MaxPooling2D((2, 2)),\n",
    "        # Aplanamiento y capas densas\n",
    "        Flatten(),\n",
    "        Dense(128, activation='relu'),\n",
    "        Dense(num_classes, activation=activation)\n",
    "    ])\n",
    "    return model"
   ]
  },
  {
   "cell_type": "code",
   "execution_count": 10,
   "id": "ef2ab116",
   "metadata": {
    "execution": {
     "iopub.execute_input": "2025-05-09T21:20:55.036106Z",
     "iopub.status.busy": "2025-05-09T21:20:55.035913Z",
     "iopub.status.idle": "2025-05-09T21:20:55.042311Z",
     "shell.execute_reply": "2025-05-09T21:20:55.041736Z"
    },
    "papermill": {
     "duration": 0.012085,
     "end_time": "2025-05-09T21:20:55.043529",
     "exception": false,
     "start_time": "2025-05-09T21:20:55.031444",
     "status": "completed"
    },
    "tags": []
   },
   "outputs": [],
   "source": [
    "from tensorflow.keras.models import Sequential\n",
    "from tensorflow.keras.layers import (\n",
    "    Conv2D, BatchNormalization, MaxPooling2D, Dropout,\n",
    "    Flatten, Dense\n",
    ")\n",
    "\n",
    "def cnn_grande(num_classes, regression = False):\n",
    "    activation = 'linear' if regression else 'softmax'\n",
    "    model = Sequential(name=\"CNN_Profunda\")\n",
    "\n",
    "    # Bloque 1\n",
    "    model.add(Conv2D(32, (3, 3), activation='relu', padding='same',\n",
    "                     input_shape=(224,224,3)))\n",
    "    model.add(BatchNormalization())\n",
    "    model.add(Conv2D(32, (3, 3), activation='relu', padding='same'))\n",
    "    model.add(BatchNormalization())\n",
    "    model.add(MaxPooling2D((2, 2)))\n",
    "    model.add(Dropout(0.25))\n",
    "\n",
    "    # Bloque 2\n",
    "    model.add(Conv2D(64, (3, 3), activation='relu', padding='same'))\n",
    "    model.add(BatchNormalization())\n",
    "    model.add(Conv2D(64, (3, 3), activation='relu', padding='same'))\n",
    "    model.add(BatchNormalization())\n",
    "    model.add(MaxPooling2D((2, 2)))\n",
    "    model.add(Dropout(0.25))\n",
    "\n",
    "    # Bloque 3\n",
    "    model.add(Conv2D(128, (3, 3), activation='relu', padding='same'))\n",
    "    model.add(BatchNormalization())\n",
    "    model.add(Conv2D(128, (3, 3), activation='relu', padding='same'))\n",
    "    model.add(BatchNormalization())\n",
    "    model.add(MaxPooling2D((2, 2)))\n",
    "    model.add(Dropout(0.40))\n",
    "\n",
    "    # Clasificación final\n",
    "    model.add(Flatten())\n",
    "    model.add(Dense(256, activation='relu'))\n",
    "    model.add(BatchNormalization())\n",
    "    model.add(Dropout(0.50))\n",
    "    model.add(Dense(num_classes, activation=activation))\n",
    "\n",
    "    return model"
   ]
  },
  {
   "cell_type": "code",
   "execution_count": 11,
   "id": "3eefe77f",
   "metadata": {
    "execution": {
     "iopub.execute_input": "2025-05-09T21:20:55.051770Z",
     "iopub.status.busy": "2025-05-09T21:20:55.051562Z",
     "iopub.status.idle": "2025-05-09T21:40:15.180234Z",
     "shell.execute_reply": "2025-05-09T21:40:15.179516Z"
    },
    "papermill": {
     "duration": 1160.134492,
     "end_time": "2025-05-09T21:40:15.181810",
     "exception": false,
     "start_time": "2025-05-09T21:20:55.047318",
     "status": "completed"
    },
    "tags": []
   },
   "outputs": [
    {
     "name": "stdout",
     "output_type": "stream",
     "text": [
      "Found 5778 validated image filenames.\n",
      "Found 826 validated image filenames.\n",
      "Found 83 validated image filenames.\n"
     ]
    },
    {
     "name": "stderr",
     "output_type": "stream",
     "text": [
      "/usr/local/lib/python3.10/dist-packages/keras/src/layers/convolutional/base_conv.py:107: UserWarning: Do not pass an `input_shape`/`input_dim` argument to a layer. When using Sequential models, prefer using an `Input(shape)` object as the first layer in the model instead.\n",
      "  super().__init__(activity_regularizer=activity_regularizer, **kwargs)\n"
     ]
    },
    {
     "name": "stdout",
     "output_type": "stream",
     "text": [
      "Epoch 1/50\n"
     ]
    },
    {
     "name": "stderr",
     "output_type": "stream",
     "text": [
      "/usr/local/lib/python3.10/dist-packages/keras/src/trainers/data_adapters/py_dataset_adapter.py:122: UserWarning: Your `PyDataset` class should call `super().__init__(**kwargs)` in its constructor. `**kwargs` can include `workers`, `use_multiprocessing`, `max_queue_size`. Do not pass these arguments to `fit()`, as they will be ignored.\n",
      "  self._warn_if_super_not_called()\n"
     ]
    },
    {
     "name": "stdout",
     "output_type": "stream",
     "text": [
      "\u001b[1m181/181\u001b[0m \u001b[32m━━━━━━━━━━━━━━━━━━━━\u001b[0m\u001b[37m\u001b[0m \u001b[1m0s\u001b[0m 544ms/step - loss: 2.7162 - mae: 1.0829🐾 [Cat Val] MAE: 64.2060 | Accuracy: 0.0000\n",
      "📦 Modelo mejorado guardado en best_model_cat.keras\n",
      "\n",
      "Epoch 1: val_loss improved from inf to 4683.80127, saving model to best_model.keras\n",
      "\u001b[1m181/181\u001b[0m \u001b[32m━━━━━━━━━━━━━━━━━━━━\u001b[0m\u001b[37m\u001b[0m \u001b[1m134s\u001b[0m 637ms/step - loss: 2.7104 - mae: 1.0819 - val_loss: 4683.8013 - val_mae: 68.3080 - learning_rate: 0.0010\n",
      "Epoch 2/50\n",
      "\u001b[1m181/181\u001b[0m \u001b[32m━━━━━━━━━━━━━━━━━━━━\u001b[0m\u001b[37m\u001b[0m \u001b[1m0s\u001b[0m 339ms/step - loss: 1.0004 - mae: 0.7064🐾 [Cat Val] MAE: 29.3019 | Accuracy: 0.2169\n",
      "📦 Modelo mejorado guardado en best_model_cat.keras\n",
      "\n",
      "Epoch 2: val_loss did not improve from 4683.80127\n",
      "\u001b[1m181/181\u001b[0m \u001b[32m━━━━━━━━━━━━━━━━━━━━\u001b[0m\u001b[37m\u001b[0m \u001b[1m68s\u001b[0m 361ms/step - loss: 0.9995 - mae: 0.7061 - val_loss: 7700.2144 - val_mae: 83.8063 - learning_rate: 0.0010\n",
      "Epoch 3/50\n",
      "\u001b[1m181/181\u001b[0m \u001b[32m━━━━━━━━━━━━━━━━━━━━\u001b[0m\u001b[37m\u001b[0m \u001b[1m0s\u001b[0m 340ms/step - loss: 0.5439 - mae: 0.5051🐾 [Cat Val] MAE: 24.5117 | Accuracy: 0.0120\n",
      "\n",
      "Epoch 3: val_loss did not improve from 4683.80127\n",
      "\u001b[1m181/181\u001b[0m \u001b[32m━━━━━━━━━━━━━━━━━━━━\u001b[0m\u001b[37m\u001b[0m \u001b[1m66s\u001b[0m 352ms/step - loss: 0.5434 - mae: 0.5048 - val_loss: 8413.5010 - val_mae: 86.9608 - learning_rate: 0.0010\n",
      "Epoch 4/50\n",
      "\u001b[1m181/181\u001b[0m \u001b[32m━━━━━━━━━━━━━━━━━━━━\u001b[0m\u001b[37m\u001b[0m \u001b[1m0s\u001b[0m 337ms/step - loss: 0.3285 - mae: 0.3985🐾 [Cat Val] MAE: 0.9722 | Accuracy: 0.8434\n",
      "📦 Modelo mejorado guardado en best_model_cat.keras\n",
      "\n",
      "Epoch 4: val_loss improved from 4683.80127 to 0.30100, saving model to best_model.keras\n",
      "\u001b[1m181/181\u001b[0m \u001b[32m━━━━━━━━━━━━━━━━━━━━\u001b[0m\u001b[37m\u001b[0m \u001b[1m69s\u001b[0m 369ms/step - loss: 0.3284 - mae: 0.3985 - val_loss: 0.3010 - val_mae: 0.4138 - learning_rate: 0.0010\n",
      "Epoch 5/50\n",
      "\u001b[1m181/181\u001b[0m \u001b[32m━━━━━━━━━━━━━━━━━━━━\u001b[0m\u001b[37m\u001b[0m \u001b[1m0s\u001b[0m 337ms/step - loss: 0.2461 - mae: 0.3426🐾 [Cat Val] MAE: 0.3164 | Accuracy: 0.8434\n",
      "📦 Modelo mejorado guardado en best_model_cat.keras\n",
      "\n",
      "Epoch 5: val_loss did not improve from 0.30100\n",
      "\u001b[1m181/181\u001b[0m \u001b[32m━━━━━━━━━━━━━━━━━━━━\u001b[0m\u001b[37m\u001b[0m \u001b[1m67s\u001b[0m 359ms/step - loss: 0.2461 - mae: 0.3426 - val_loss: 0.5561 - val_mae: 0.5243 - learning_rate: 0.0010\n",
      "Epoch 6/50\n",
      "\u001b[1m181/181\u001b[0m \u001b[32m━━━━━━━━━━━━━━━━━━━━\u001b[0m\u001b[37m\u001b[0m \u001b[1m0s\u001b[0m 332ms/step - loss: 0.2135 - mae: 0.3141🐾 [Cat Val] MAE: 0.3743 | Accuracy: 0.8193\n",
      "\n",
      "Epoch 6: val_loss improved from 0.30100 to 0.21871, saving model to best_model.keras\n",
      "\u001b[1m181/181\u001b[0m \u001b[32m━━━━━━━━━━━━━━━━━━━━\u001b[0m\u001b[37m\u001b[0m \u001b[1m67s\u001b[0m 356ms/step - loss: 0.2136 - mae: 0.3142 - val_loss: 0.2187 - val_mae: 0.3460 - learning_rate: 0.0010\n",
      "Epoch 7/50\n",
      "\u001b[1m181/181\u001b[0m \u001b[32m━━━━━━━━━━━━━━━━━━━━\u001b[0m\u001b[37m\u001b[0m \u001b[1m0s\u001b[0m 333ms/step - loss: 0.2141 - mae: 0.3183🐾 [Cat Val] MAE: 9.7120 | Accuracy: 0.8434\n",
      "\n",
      "Epoch 7: val_loss did not improve from 0.21871\n",
      "\u001b[1m181/181\u001b[0m \u001b[32m━━━━━━━━━━━━━━━━━━━━\u001b[0m\u001b[37m\u001b[0m \u001b[1m65s\u001b[0m 346ms/step - loss: 0.2141 - mae: 0.3183 - val_loss: 14.4417 - val_mae: 0.6100 - learning_rate: 0.0010\n",
      "Epoch 8/50\n",
      "\u001b[1m181/181\u001b[0m \u001b[32m━━━━━━━━━━━━━━━━━━━━\u001b[0m\u001b[37m\u001b[0m \u001b[1m0s\u001b[0m 336ms/step - loss: 0.1994 - mae: 0.3057🐾 [Cat Val] MAE: 0.6461 | Accuracy: 0.8434\n",
      "\n",
      "Epoch 8: val_loss did not improve from 0.21871\n",
      "\u001b[1m181/181\u001b[0m \u001b[32m━━━━━━━━━━━━━━━━━━━━\u001b[0m\u001b[37m\u001b[0m \u001b[1m66s\u001b[0m 349ms/step - loss: 0.1995 - mae: 0.3057 - val_loss: 0.3155 - val_mae: 0.3647 - learning_rate: 0.0010\n",
      "Epoch 9/50\n",
      "\u001b[1m181/181\u001b[0m \u001b[32m━━━━━━━━━━━━━━━━━━━━\u001b[0m\u001b[37m\u001b[0m \u001b[1m0s\u001b[0m 336ms/step - loss: 0.2121 - mae: 0.3105🐾 [Cat Val] MAE: 83.5005 | Accuracy: 0.8434\n",
      "\n",
      "Epoch 9: val_loss did not improve from 0.21871\n",
      "\u001b[1m181/181\u001b[0m \u001b[32m━━━━━━━━━━━━━━━━━━━━\u001b[0m\u001b[37m\u001b[0m \u001b[1m66s\u001b[0m 349ms/step - loss: 0.2120 - mae: 0.3105 - val_loss: 4618.7222 - val_mae: 57.1720 - learning_rate: 0.0010\n",
      "Epoch 10/50\n",
      "\u001b[1m181/181\u001b[0m \u001b[32m━━━━━━━━━━━━━━━━━━━━\u001b[0m\u001b[37m\u001b[0m \u001b[1m0s\u001b[0m 335ms/step - loss: 0.2176 - mae: 0.3137🐾 [Cat Val] MAE: 0.7711 | Accuracy: 0.8434\n",
      "\n",
      "Epoch 10: val_loss did not improve from 0.21871\n",
      "\u001b[1m181/181\u001b[0m \u001b[32m━━━━━━━━━━━━━━━━━━━━\u001b[0m\u001b[37m\u001b[0m \u001b[1m65s\u001b[0m 347ms/step - loss: 0.2177 - mae: 0.3137 - val_loss: 2.0692 - val_mae: 0.4323 - learning_rate: 0.0010\n",
      "Epoch 11/50\n",
      "\u001b[1m181/181\u001b[0m \u001b[32m━━━━━━━━━━━━━━━━━━━━\u001b[0m\u001b[37m\u001b[0m \u001b[1m0s\u001b[0m 335ms/step - loss: 0.2205 - mae: 0.3215\n",
      "Epoch 11: ReduceLROnPlateau reducing learning rate to 0.0005000000237487257.\n",
      "🐾 [Cat Val] MAE: 48.3098 | Accuracy: 0.8434\n",
      "\n",
      "Epoch 11: val_loss did not improve from 0.21871\n",
      "\u001b[1m181/181\u001b[0m \u001b[32m━━━━━━━━━━━━━━━━━━━━\u001b[0m\u001b[37m\u001b[0m \u001b[1m66s\u001b[0m 350ms/step - loss: 0.2205 - mae: 0.3215 - val_loss: 381.5986 - val_mae: 3.0950 - learning_rate: 0.0010\n",
      "Epoch 12/50\n",
      "\u001b[1m181/181\u001b[0m \u001b[32m━━━━━━━━━━━━━━━━━━━━\u001b[0m\u001b[37m\u001b[0m \u001b[1m0s\u001b[0m 392ms/step - loss: 0.2097 - mae: 0.3181🐾 [Cat Val] MAE: 676.6121 | Accuracy: 0.0000\n",
      "\n",
      "Epoch 12: val_loss did not improve from 0.21871\n",
      "\u001b[1m181/181\u001b[0m \u001b[32m━━━━━━━━━━━━━━━━━━━━\u001b[0m\u001b[37m\u001b[0m \u001b[1m77s\u001b[0m 410ms/step - loss: 0.2097 - mae: 0.3180 - val_loss: 143382.2812 - val_mae: 366.5131 - learning_rate: 5.0000e-04\n",
      "Epoch 13/50\n",
      "\u001b[1m181/181\u001b[0m \u001b[32m━━━━━━━━━━━━━━━━━━━━\u001b[0m\u001b[37m\u001b[0m \u001b[1m0s\u001b[0m 370ms/step - loss: 0.1981 - mae: 0.3035🐾 [Cat Val] MAE: 18.1656 | Accuracy: 0.6867\n",
      "\n",
      "Epoch 13: val_loss did not improve from 0.21871\n",
      "\u001b[1m181/181\u001b[0m \u001b[32m━━━━━━━━━━━━━━━━━━━━\u001b[0m\u001b[37m\u001b[0m \u001b[1m75s\u001b[0m 397ms/step - loss: 0.1982 - mae: 0.3035 - val_loss: 54.2665 - val_mae: 1.1165 - learning_rate: 5.0000e-04\n",
      "Epoch 14/50\n",
      "\u001b[1m181/181\u001b[0m \u001b[32m━━━━━━━━━━━━━━━━━━━━\u001b[0m\u001b[37m\u001b[0m \u001b[1m0s\u001b[0m 359ms/step - loss: 0.1989 - mae: 0.3056🐾 [Cat Val] MAE: 13.5022 | Accuracy: 0.8313\n",
      "\n",
      "Epoch 14: val_loss did not improve from 0.21871\n",
      "\u001b[1m181/181\u001b[0m \u001b[32m━━━━━━━━━━━━━━━━━━━━\u001b[0m\u001b[37m\u001b[0m \u001b[1m71s\u001b[0m 372ms/step - loss: 0.1989 - mae: 0.3056 - val_loss: 38.0558 - val_mae: 0.8927 - learning_rate: 5.0000e-04\n",
      "Epoch 15/50\n",
      "\u001b[1m181/181\u001b[0m \u001b[32m━━━━━━━━━━━━━━━━━━━━\u001b[0m\u001b[37m\u001b[0m \u001b[1m0s\u001b[0m 333ms/step - loss: 0.1938 - mae: 0.3015🐾 [Cat Val] MAE: 0.3272 | Accuracy: 0.8434\n",
      "\n",
      "Epoch 15: val_loss did not improve from 0.21871\n",
      "\u001b[1m181/181\u001b[0m \u001b[32m━━━━━━━━━━━━━━━━━━━━\u001b[0m\u001b[37m\u001b[0m \u001b[1m65s\u001b[0m 348ms/step - loss: 0.1939 - mae: 0.3015 - val_loss: 0.2371 - val_mae: 0.2445 - learning_rate: 5.0000e-04\n",
      "Epoch 16/50\n",
      "\u001b[1m181/181\u001b[0m \u001b[32m━━━━━━━━━━━━━━━━━━━━\u001b[0m\u001b[37m\u001b[0m \u001b[1m0s\u001b[0m 348ms/step - loss: 0.1931 - mae: 0.2967\n",
      "Epoch 16: ReduceLROnPlateau reducing learning rate to 0.0002500000118743628.\n",
      "🐾 [Cat Val] MAE: 11.1690 | Accuracy: 0.7590\n",
      "\n",
      "Epoch 16: val_loss did not improve from 0.21871\n",
      "\u001b[1m181/181\u001b[0m \u001b[32m━━━━━━━━━━━━━━━━━━━━\u001b[0m\u001b[37m\u001b[0m \u001b[1m68s\u001b[0m 361ms/step - loss: 0.1932 - mae: 0.2967 - val_loss: 28.9678 - val_mae: 1.0499 - learning_rate: 5.0000e-04\n"
     ]
    }
   ],
   "source": [
    "regression = True\n",
    "tarea = 1\n",
    "num_classes = 5\n",
    "if regression:\n",
    "    num_classes = 1\n",
    "elif tarea == 1:\n",
    "    num_classes = 3\n",
    "elif tarea > 1:\n",
    "    num_classes = 2\n",
    "\n",
    "loss = 'mean_squared_error' if regression else 'categorical_crossentropy'\n",
    "metrics = ['mae'] if regression else ['accuracy']\n",
    "\n",
    "# Generadores de datos (entrenamiento y validación)\n",
    "train_gen = get_datagen(tarea=tarea, path=train_dir, regression=regression, augment=True)\n",
    "val_gen   = get_datagen(tarea=tarea, path=val_dir,   regression=regression)\n",
    "cat_gen = get_datagen(tarea=tarea, path=cat_dir, regression=regression)\n",
    "\n",
    "\n",
    "model = cnn_grande(num_classes, regression)\n",
    "model.compile(optimizer='adam',\n",
    "                  loss=loss,\n",
    "                  metrics=metrics)\n",
    "callbacks=get_callbacks(regression, cat_gen)\n",
    "history = model.fit(\n",
    "    train_gen,\n",
    "    validation_data=val_gen,\n",
    "    epochs=50,\n",
    "    callbacks=callbacks\n",
    ")\n",
    "# Carga de pesos\n"
   ]
  },
  {
   "cell_type": "code",
   "execution_count": 12,
   "id": "4bf14d5c",
   "metadata": {
    "execution": {
     "iopub.execute_input": "2025-05-09T21:40:15.471289Z",
     "iopub.status.busy": "2025-05-09T21:40:15.470995Z",
     "iopub.status.idle": "2025-05-09T21:40:26.087134Z",
     "shell.execute_reply": "2025-05-09T21:40:26.086164Z"
    },
    "papermill": {
     "duration": 10.761625,
     "end_time": "2025-05-09T21:40:26.088416",
     "exception": false,
     "start_time": "2025-05-09T21:40:15.326791",
     "status": "completed"
    },
    "tags": []
   },
   "outputs": [
    {
     "name": "stdout",
     "output_type": "stream",
     "text": [
      "\u001b[1m26/26\u001b[0m \u001b[32m━━━━━━━━━━━━━━━━━━━━\u001b[0m\u001b[37m\u001b[0m \u001b[1m2s\u001b[0m 81ms/step\n",
      "Mean Absolute Error (MAE): 0.3460\n",
      "\n",
      "              precision    recall  f1-score   support\n",
      "\n",
      "        KL 0     0.8444    0.9553    0.8964       693\n",
      "        KL 1     0.1429    0.0566    0.0811       106\n",
      "        KL 2     0.0000    0.0000    0.0000        27\n",
      "\n",
      "    accuracy                         0.8087       826\n",
      "   macro avg     0.3291    0.3373    0.3258       826\n",
      "weighted avg     0.7268    0.8087    0.7625       826\n",
      "\n"
     ]
    },
    {
     "name": "stderr",
     "output_type": "stream",
     "text": [
      "/usr/local/lib/python3.10/dist-packages/sklearn/metrics/_classification.py:1344: UndefinedMetricWarning: Precision and F-score are ill-defined and being set to 0.0 in labels with no predicted samples. Use `zero_division` parameter to control this behavior.\n",
      "  _warn_prf(average, modifier, msg_start, len(result))\n",
      "/usr/local/lib/python3.10/dist-packages/sklearn/metrics/_classification.py:1344: UndefinedMetricWarning: Precision and F-score are ill-defined and being set to 0.0 in labels with no predicted samples. Use `zero_division` parameter to control this behavior.\n",
      "  _warn_prf(average, modifier, msg_start, len(result))\n",
      "/usr/local/lib/python3.10/dist-packages/sklearn/metrics/_classification.py:1344: UndefinedMetricWarning: Precision and F-score are ill-defined and being set to 0.0 in labels with no predicted samples. Use `zero_division` parameter to control this behavior.\n",
      "  _warn_prf(average, modifier, msg_start, len(result))\n"
     ]
    },
    {
     "data": {
      "image/png": "[encoded data removed]",
      "text/plain": [
       "<Figure size 800x600 with 2 Axes>"
      ]
     },
     "metadata": {},
     "output_type": "display_data"
    },
    {
     "name": "stdout",
     "output_type": "stream",
     "text": [
      "\u001b[1m3/3\u001b[0m \u001b[32m━━━━━━━━━━━━━━━━━━━━\u001b[0m\u001b[37m\u001b[0m \u001b[1m0s\u001b[0m 57ms/step\n",
      "Mean Absolute Error (MAE): 0.3164\n",
      "\n",
      "              precision    recall  f1-score   support\n",
      "\n",
      "        KL 0     0.8434    1.0000    0.9150        70\n",
      "        KL 1     0.0000    0.0000    0.0000        11\n",
      "        KL 2     0.0000    0.0000    0.0000         2\n",
      "\n",
      "    accuracy                         0.8434        83\n",
      "   macro avg     0.2811    0.3333    0.3050        83\n",
      "weighted avg     0.7113    0.8434    0.7717        83\n",
      "\n"
     ]
    },
    {
     "name": "stderr",
     "output_type": "stream",
     "text": [
      "/usr/local/lib/python3.10/dist-packages/sklearn/metrics/_classification.py:1344: UndefinedMetricWarning: Precision and F-score are ill-defined and being set to 0.0 in labels with no predicted samples. Use `zero_division` parameter to control this behavior.\n",
      "  _warn_prf(average, modifier, msg_start, len(result))\n",
      "/usr/local/lib/python3.10/dist-packages/sklearn/metrics/_classification.py:1344: UndefinedMetricWarning: Precision and F-score are ill-defined and being set to 0.0 in labels with no predicted samples. Use `zero_division` parameter to control this behavior.\n",
      "  _warn_prf(average, modifier, msg_start, len(result))\n",
      "/usr/local/lib/python3.10/dist-packages/sklearn/metrics/_classification.py:1344: UndefinedMetricWarning: Precision and F-score are ill-defined and being set to 0.0 in labels with no predicted samples. Use `zero_division` parameter to control this behavior.\n",
      "  _warn_prf(average, modifier, msg_start, len(result))\n"
     ]
    },
    {
     "data": {
      "image/png": "[encoded data removed]",
      "text/plain": [
       "<Figure size 800x600 with 2 Axes>"
      ]
     },
     "metadata": {},
     "output_type": "display_data"
    }
   ],
   "source": [
    "# Carga de pesos\n",
    "model.load_weights('best_model.keras')\n",
    "# Obtén el diccionario original {etiqueta_str: índice_entero}\n",
    "evaluate_model(model, regression=regression, generator=val_gen)\n",
    "model.load_weights('best_model_cat.keras')\n",
    "evaluate_model(model, regression=regression, generator=cat_gen)"
   ]
  },
  {
   "cell_type": "code",
   "execution_count": 13,
   "id": "0ea78ea0",
   "metadata": {
    "execution": {
     "iopub.execute_input": "2025-05-09T21:40:26.387423Z",
     "iopub.status.busy": "2025-05-09T21:40:26.387061Z",
     "iopub.status.idle": "2025-05-09T21:40:26.960431Z",
     "shell.execute_reply": "2025-05-09T21:40:26.959524Z"
    },
    "papermill": {
     "duration": 0.726006,
     "end_time": "2025-05-09T21:40:26.961807",
     "exception": false,
     "start_time": "2025-05-09T21:40:26.235801",
     "status": "completed"
    },
    "tags": []
   },
   "outputs": [
    {
     "name": "stdout",
     "output_type": "stream",
     "text": [
      "=== Historial de entrenamiento ===\n",
      "loss: [1.661125898361206, 0.849070131778717, 0.4538673162460327, 0.3096582293510437, 0.24667179584503174, 0.2257857322692871, 0.2121824324131012, 0.20537793636322021, 0.20776434242725372, 0.23447923362255096, 0.21327687799930573, 0.2106570601463318, 0.20332585275173187, 0.1970309019088745, 0.19976502656936646, 0.19533857703208923]\n",
      "mae: [0.9022831320762634, 0.6572719216346741, 0.4674672782421112, 0.38451147079467773, 0.3408723473548889, 0.3235553801059723, 0.31350991129875183, 0.30930474400520325, 0.30920693278312683, 0.32768023014068604, 0.3128838837146759, 0.3132157027721405, 0.30664631724357605, 0.3034612834453583, 0.3046598732471466, 0.30108386278152466]\n",
      "val_loss: [4683.80126953125, 7700.21435546875, 8413.5009765625, 0.30100196599960327, 0.5560857057571411, 0.21871401369571686, 14.441718101501465, 0.3154601752758026, 4618.72216796875, 2.069201707839966, 381.5986328125, 143382.28125, 54.26648712158203, 38.05579376220703, 0.23714607954025269, 28.967771530151367]\n",
      "val_mae: [68.30796813964844, 83.80625915527344, 86.96084594726562, 0.4137745797634125, 0.5242729187011719, 0.34603816270828247, 0.6099558472633362, 0.3647136986255646, 57.172027587890625, 0.43228721618652344, 3.0950303077697754, 366.5130615234375, 1.1165457963943481, 0.8926913738250732, 0.24452893435955048, 1.0499420166015625]\n",
      "learning_rate: [0.0010000000474974513, 0.0010000000474974513, 0.0010000000474974513, 0.0010000000474974513, 0.0010000000474974513, 0.0010000000474974513, 0.0010000000474974513, 0.0010000000474974513, 0.0010000000474974513, 0.0010000000474974513, 0.0010000000474974513, 0.0005000000237487257, 0.0005000000237487257, 0.0005000000237487257, 0.0005000000237487257, 0.0005000000237487257]\n"
     ]
    },
    {
     "data": {
      "image/png": "[encoded data removed]",
      "text/plain": [
       "<Figure size 640x480 with 1 Axes>"
      ]
     },
     "metadata": {},
     "output_type": "display_data"
    },
    {
     "data": {
      "image/png": "[encoded data removed]",
      "text/plain": [
       "<Figure size 640x480 with 1 Axes>"
      ]
     },
     "metadata": {},
     "output_type": "display_data"
    },
    {
     "data": {
      "image/png": "[encoded data removed]",
      "text/plain": [
       "<Figure size 640x480 with 1 Axes>"
      ]
     },
     "metadata": {},
     "output_type": "display_data"
    }
   ],
   "source": [
    "print(\"=== Historial de entrenamiento ===\")\n",
    "for metric_name, metric_values in history.history.items():\n",
    "    print(f\"{metric_name}: {metric_values}\")\n",
    "\n",
    "# 2. (Opcional) Graficar las curvas de entrenamiento y validación\n",
    "import matplotlib.pyplot as plt\n",
    "\n",
    "# Determinar qué métricas hay (loss, mae o accuracy, val_loss, val_mae o val_accuracy)\n",
    "keys = list(history.history.keys())\n",
    "\n",
    "# Para cada métrica de entrenamiento sin prefijo 'val_'\n",
    "for k in keys:\n",
    "    if not k.startswith('val_'):\n",
    "        plt.figure()\n",
    "        plt.plot(history.history[k], marker='o', label=f'train_{k}')\n",
    "        val_key = f'val_{k}'\n",
    "        if val_key in history.history:\n",
    "            plt.plot(history.history[val_key], marker='s', label=f'val_{k}')\n",
    "        plt.title(f'Curva de {k}')\n",
    "        plt.xlabel('Época')\n",
    "        plt.ylabel(k)\n",
    "        plt.legend()\n",
    "        plt.grid(True)\n",
    "        plt.show()"
   ]
  },
  {
   "cell_type": "code",
   "execution_count": 14,
   "id": "6bd4a936",
   "metadata": {
    "execution": {
     "iopub.execute_input": "2025-05-09T21:40:27.259400Z",
     "iopub.status.busy": "2025-05-09T21:40:27.259076Z",
     "iopub.status.idle": "2025-05-09T21:40:27.462009Z",
     "shell.execute_reply": "2025-05-09T21:40:27.460396Z"
    },
    "papermill": {
     "duration": 0.352028,
     "end_time": "2025-05-09T21:40:27.463584",
     "exception": false,
     "start_time": "2025-05-09T21:40:27.111556",
     "status": "completed"
    },
    "tags": []
   },
   "outputs": [
    {
     "name": "stdout",
     "output_type": "stream",
     "text": [
      "=== Historial de validación de gatos ===\n",
      "Época 1: Loss/MAE = 64.2060, Accuracy = 0.0000\n",
      "Época 2: Loss/MAE = 29.3019, Accuracy = 0.2169\n",
      "Época 3: Loss/MAE = 24.5117, Accuracy = 0.0120\n",
      "Época 4: Loss/MAE = 0.9722, Accuracy = 0.8434\n",
      "Época 5: Loss/MAE = 0.3164, Accuracy = 0.8434\n",
      "Época 6: Loss/MAE = 0.3743, Accuracy = 0.8193\n",
      "Época 7: Loss/MAE = 9.7120, Accuracy = 0.8434\n",
      "Época 8: Loss/MAE = 0.6461, Accuracy = 0.8434\n",
      "Época 9: Loss/MAE = 83.5005, Accuracy = 0.8434\n",
      "Época 10: Loss/MAE = 0.7711, Accuracy = 0.8434\n",
      "Época 11: Loss/MAE = 48.3098, Accuracy = 0.8434\n",
      "Época 12: Loss/MAE = 676.6121, Accuracy = 0.0000\n",
      "Época 13: Loss/MAE = 18.1656, Accuracy = 0.6867\n",
      "Época 14: Loss/MAE = 13.5022, Accuracy = 0.8313\n",
      "Época 15: Loss/MAE = 0.3272, Accuracy = 0.8434\n",
      "Época 16: Loss/MAE = 11.1690, Accuracy = 0.7590\n"
     ]
    },
    {
     "data": {
      "image/png": "[encoded data removed]",
      "text/plain": [
       "<Figure size 640x480 with 1 Axes>"
      ]
     },
     "metadata": {},
     "output_type": "display_data"
    }
   ],
   "source": [
    "cat_callback = callbacks[2]\n",
    "\n",
    "print(\"=== Historial de validación de gatos ===\")\n",
    "for m in cat_callback.epoch_metrics:\n",
    "    epoch = m['epoch']\n",
    "    loss = m['val_cat_loss']\n",
    "    acc  = m['val_cat_accuracy']\n",
    "    print(f\"Época {epoch}: Loss/MAE = {loss:.4f}, Accuracy = {acc:.4f}\")\n",
    "\n",
    "# (Opcional) Graficar la evolución de loss y accuracy de validación de gatos\n",
    "import matplotlib.pyplot as plt\n",
    "\n",
    "epochs = [m['epoch'] for m in cat_callback.epoch_metrics]\n",
    "losses = [m['val_cat_loss'] for m in cat_callback.epoch_metrics]\n",
    "accs   = [m['val_cat_accuracy'] for m in cat_callback.epoch_metrics]\n",
    "\n",
    "plt.figure()\n",
    "plt.plot(epochs, losses, marker='o', label='val_cat_loss/MAE')\n",
    "plt.plot(epochs, accs,   marker='s', label='val_cat_accuracy')\n",
    "plt.title('Curvas de validación (CatValidationCallback)')\n",
    "plt.xlabel('Época')\n",
    "plt.ylabel('Valor')\n",
    "plt.legend()\n",
    "plt.grid(True)\n",
    "plt.show()"
   ]
  },
  {
   "cell_type": "markdown",
   "id": "d0a677f7",
   "metadata": {
    "papermill": {
     "duration": 0.151029,
     "end_time": "2025-05-09T21:40:27.766489",
     "exception": false,
     "start_time": "2025-05-09T21:40:27.615460",
     "status": "completed"
    },
    "tags": []
   },
   "source": [
    "# Anterior"
   ]
  },
  {
   "cell_type": "markdown",
   "id": "c0662727",
   "metadata": {
    "papermill": {
     "duration": 0.150976,
     "end_time": "2025-05-09T21:40:28.113674",
     "exception": false,
     "start_time": "2025-05-09T21:40:27.962698",
     "status": "completed"
    },
    "tags": []
   },
   "source": [
    "## Exploración del dataset de artrosis de rodilla\n",
    "\n",
    "- **Total de imágenes:** 9 786\n",
    "\n",
    "| Partición      | Imágenes | Porcentaje |\n",
    "|---------------|---------:|-----------:|\n",
    "| **Train**      | 5 778    | 59.04 %    |\n",
    "| **Validation** |   826    |  8.44 %    |\n",
    "| **Test**       | 1 656    | 16.92 %    |\n",
    "| **AutoTest**   | 1 526    | 15.59 %    |\n",
    "\n",
    "\n",
    "### Distribución de clases en `Train`\n",
    "\n",
    "|  Clase  | Índice | Imágenes | Porcentaje |\n",
    "|---------|-------:|---------:|-----------:|\n",
    "| Sin     |      0 |    2 286 |     39.56 % |\n",
    "| Ligera  |      1 |    1 046 |     18.10 % |\n",
    "| Leve    |      2 |    1 516 |     26.24 % |\n",
    "| Moderada|      3 |      757 |     13.10 % |\n",
    "| Severa  |      4 |      173 |      2.99 % |\n",
    "\n"
   ]
  }
 ],
 "metadata": {
  "kaggle": {
   "accelerator": "gpu",
   "dataSources": [
    {
     "datasetId": 1257880,
     "sourceId": 2097406,
     "sourceType": "datasetVersion"
    },
    {
     "datasetId": 7130561,
     "sourceId": 11387077,
     "sourceType": "datasetVersion"
    }
   ],
   "dockerImageVersionId": 30919,
   "isGpuEnabled": true,
   "isInternetEnabled": true,
   "language": "python",
   "sourceType": "notebook"
  },
  "kernelspec": {
   "display_name": "Python 3",
   "language": "python",
   "name": "python3"
  },
  "language_info": {
   "codemirror_mode": {
    "name": "ipython",
    "version": 3
   },
   "file_extension": ".py",
   "mimetype": "text/x-python",
   "name": "python",
   "nbconvert_exporter": "python",
   "pygments_lexer": "ipython3",
   "version": "3.10.12"
  },
  "papermill": {
   "default_parameters": {},
   "duration": 1214.296953,
   "end_time": "2025-05-09T21:40:31.439091",
   "environment_variables": {},
   "exception": null,
   "input_path": "__notebook__.ipynb",
   "output_path": "__notebook__.ipynb",
   "parameters": {},
   "start_time": "2025-05-09T21:20:17.142138",
   "version": "2.6.0"
  }
 },
 "nbformat": 4,
 "nbformat_minor": 5
}
