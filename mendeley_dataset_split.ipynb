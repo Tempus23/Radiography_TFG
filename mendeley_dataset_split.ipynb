{
 "cells": [
  {
   "cell_type": "markdown",
   "metadata": {},
   "source": [
    "Generar el Split para el mendeley_dataset"
   ]
  },
  {
   "cell_type": "code",
   "execution_count": 1,
   "metadata": {},
   "outputs": [],
   "source": [
    "import os\n",
    "import cv2\n",
    "import shutil\n",
    "import numpy as np\n",
    "import matplotlib.pyplot as plt\n",
    "\n",
    "import torch\n",
    "from torchvision import datasets, transforms\n",
    "from torch.utils.data import DataLoader\n",
    "\n",
    "from tensorflow.keras.preprocessing.image import ImageDataGenerator # type: ignore\n",
    "from sklearn.model_selection import train_test_split\n",
    "\n",
    "from src.config import *\n",
    "from src.data import *\n",
    "from src.models.efficientnet import EfficientNetB5Custom\n",
    "from src.utils import *\n",
    "from src.data import OriginalOAIDataset\n",
    "from src.train import train, train_model\n",
    "from src.trainers.classification import Classification\n",
    "\n",
    "\n",
    "np.random.seed(RANDOM_SEED)\n",
    "torch.manual_seed(RANDOM_SEED)\n",
    "torch.cuda.manual_seed(RANDOM_SEED)\n",
    "torch.cuda.manual_seed_all(RANDOM_SEED)\n",
    "\n",
    "\n"
   ]
  },
  {
   "cell_type": "code",
   "execution_count": null,
   "metadata": {},
   "outputs": [],
   "source": [
    "ORIGINAL_PATH = MENDELEY_EXPERT1_PATH\n",
    "NEW_MENDELEY_EXPERT1_PATH = 'dataset/mendeley_dataset/medical_expert_1_split'"
   ]
  },
  {
   "cell_type": "code",
   "execution_count": null,
   "metadata": {},
   "outputs": [],
   "source": [
    "\n",
    "# Crear split para el dataset 70 10 20\n",
    "\n",
    "if not os.path.exists(NEW_MENDELEY_EXPERT1_PATH):\n",
    "    os.makedirs(NEW_MENDELEY_EXPERT1_PATH)\n",
    "\n",
    "NEW_TRAIN_PATH = os.path.join(NEW_MENDELEY_EXPERT1_PATH, 'train')\n",
    "NEW_VAL_PATH = os.path.join(NEW_MENDELEY_EXPERT1_PATH, 'val')\n",
    "NEW_TEST_PATH = os.path.join(NEW_MENDELEY_EXPERT1_PATH, 'test')\n",
    "\n",
    "for split in ['train', 'val', 'test']:\n",
    "    split_dir = os.path.join(NEW_MENDELEY_EXPERT1_PATH, split)\n",
    "    if not os.path.exists(split_dir):\n",
    "        os.makedirs(split_dir)\n",
    "    for c in os.listdir(ORIGINAL_PATH):\n",
    "        class_split_dir = os.path.join(split_dir, c)\n",
    "        if not os.path.exists(class_split_dir):\n",
    "            os.makedirs(class_split_dir)\n",
    "\n"
   ]
  },
  {
   "cell_type": "code",
   "execution_count": null,
   "metadata": {},
   "outputs": [],
   "source": [
    "classes = os.listdir(ORIGINAL_PATH)\n",
    "\n",
    "for c in classes:\n",
    "    class_dir = os.path.join(ORIGINAL_PATH, c)\n",
    "\n",
    "    images = os.listdir(class_dir)\n",
    "    n_images = len(images)\n",
    "    n_train = int(n_images * 0.7)\n",
    "    n_val = int(n_images * 0.1)\n",
    "    n_test = n_images - n_train - n_val\n",
    "\n",
    "    print(\"Generando split para la clase\", c)\n",
    "    print(\"Train:\", n_train)\n",
    "    print(\"Val:\", n_val)\n",
    "    print(\"Test:\", n_test)\n",
    "\n",
    "    train_images, val_test_images = train_test_split(images, test_size=n_val + n_test, random_state=RANDOM_SEED)\n",
    "    val_images, test_images = train_test_split(val_test_images, test_size=n_test, random_state=RANDOM_SEED)\n",
    "\n",
    "    for img in train_images:\n",
    "        shutil.move(os.path.join(class_dir, img), os.path.join(NEW_MENDELEY_EXPERT1_PATH, 'train', c, img))\n",
    "    for img in val_images:\n",
    "        shutil.move(os.path.join(class_dir, img), os.path.join(NEW_MENDELEY_EXPERT1_PATH, 'val', c, img))\n",
    "    for img in test_images:\n",
    "        shutil.move(os.path.join(class_dir, img), os.path.join(NEW_MENDELEY_EXPERT1_PATH, 'test', c, img))\n"
   ]
  },
  {
   "cell_type": "code",
   "execution_count": null,
   "metadata": {},
   "outputs": [],
   "source": [
    "data = explorar_split_data(NEW_MENDELEY_EXPERT1_PATH)"
   ]
  }
 ],
 "metadata": {
  "kernelspec": {
   "display_name": "Python 3",
   "language": "python",
   "name": "python3"
  },
  "language_info": {
   "codemirror_mode": {
    "name": "ipython",
    "version": 3
   },
   "file_extension": ".py",
   "mimetype": "text/x-python",
   "name": "python",
   "nbconvert_exporter": "python",
   "pygments_lexer": "ipython3",
   "version": "3.10.4"
  }
 },
 "nbformat": 4,
 "nbformat_minor": 2
}
