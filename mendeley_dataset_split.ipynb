{
 "cells": [
  {
   "cell_type": "markdown",
   "metadata": {},
   "source": [
    "Generar el Split para el mendeley_dataset"
   ]
  },
  {
   "cell_type": "code",
   "execution_count": 6,
   "metadata": {},
   "outputs": [
    {
     "data": {
      "text/plain": [
       "<torch._C.Generator at 0x1cca6ffead0>"
      ]
     },
     "execution_count": 6,
     "metadata": {},
     "output_type": "execute_result"
    }
   ],
   "source": [
    "import os\n",
    "import cv2\n",
    "import numpy as np\n",
    "import matplotlib.pyplot as plt\n",
    "\n",
    "import torch\n",
    "from torchvision import datasets, transforms\n",
    "from torch.utils.data import DataLoader\n",
    "\n",
    "from tensorflow.keras.preprocessing.image import ImageDataGenerator # type: ignore\n",
    "from sklearn.model_selection import train_test_split\n",
    "\n",
    "from src.config import *\n",
    "from src.data import *\n",
    "from src.models.efficientnet import EfficientNetB5Custom\n",
    "from src.utils import *\n",
    "from src.data import OriginalOAIDataset\n",
    "from src.train import train, train_model\n",
    "from src.trainers.classification import Classification\n",
    "\n",
    "\n",
    "np.random.seed(RANDOM_SEED)\n",
    "torch.manual_seed(RANDOM_SEED)\n",
    "\n"
   ]
  },
  {
   "cell_type": "code",
   "execution_count": 4,
   "metadata": {},
   "outputs": [],
   "source": [
    "ORIGINAL_PATH = MENDELEY_EXPERT1_PATH\n",
    "NEW_MENDELEY_EXPERT1_PATH = 'dataset/mendeley_dataset/medical_expert_1_split'"
   ]
  },
  {
   "cell_type": "code",
   "execution_count": 5,
   "metadata": {},
   "outputs": [],
   "source": [
    "\n",
    "# Crear split para el dataset 70 10 20\n",
    "\n",
    "if not os.path.exists(NEW_MENDELEY_EXPERT1_PATH):\n",
    "    os.makedirs(NEW_MENDELEY_EXPERT1_PATH)\n",
    "\n",
    "NEW_TRAIN_PATH = os.path.join(NEW_MENDELEY_EXPERT1_PATH, 'train')\n",
    "NEW_VAL_PATH = os.path.join(NEW_MENDELEY_EXPERT1_PATH, 'val')\n",
    "NEW_TEST_PATH = os.path.join(NEW_MENDELEY_EXPERT1_PATH, 'test')\n",
    "\n",
    "for split in ['train', 'val', 'test']:\n",
    "    split_dir = os.path.join(NEW_MENDELEY_EXPERT1_PATH, split)\n",
    "    if not os.path.exists(split_dir):\n",
    "        os.makedirs(split_dir)\n",
    "    for c in os.listdir(ORIGINAL_PATH):\n",
    "        class_split_dir = os.path.join(split_dir, c)\n",
    "        if not os.path.exists(class_split_dir):\n",
    "            os.makedirs(class_split_dir)\n",
    "\n"
   ]
  },
  {
   "cell_type": "code",
   "execution_count": null,
   "metadata": {},
   "outputs": [
    {
     "name": "stdout",
     "output_type": "stream",
     "text": [
      "Generando split para la clase 0\n",
      "Train: 359\n",
      "Val: 51\n",
      "Test: 104\n",
      "Train: 359\n",
      "Val: 51\n",
      "Test: 104\n",
      "Generando split para la clase 1\n",
      "Train: 333\n",
      "Val: 47\n",
      "Test: 97\n",
      "Train: 333\n",
      "Val: 47\n",
      "Test: 97\n",
      "Generando split para la clase 2\n",
      "Train: 162\n",
      "Val: 23\n",
      "Test: 47\n",
      "Train: 162\n",
      "Val: 23\n",
      "Test: 47\n",
      "Generando split para la clase 3\n",
      "Train: 154\n",
      "Val: 22\n",
      "Test: 45\n",
      "Train: 154\n",
      "Val: 22\n",
      "Test: 45\n",
      "Generando split para la clase 4\n",
      "Train: 144\n",
      "Val: 20\n",
      "Test: 42\n",
      "Train: 144\n",
      "Val: 20\n",
      "Test: 42\n"
     ]
    }
   ],
   "source": [
    "classes = os.listdir(ORIGINAL_PATH)\n",
    "\n",
    "for c in classes:\n",
    "    class_dir = os.path.join(ORIGINAL_PATH, c)\n",
    "\n",
    "    images = os.listdir(class_dir)\n",
    "    n_images = len(images)\n",
    "    n_train = int(n_images * 0.7)\n",
    "    n_val = int(n_images * 0.1)\n",
    "    n_test = n_images - n_train - n_val\n",
    "\n",
    "    print(\"Generando split para la clase\", c)\n",
    "    print(\"Train:\", n_train)\n",
    "    print(\"Val:\", n_val)\n",
    "    print(\"Test:\", n_test)\n",
    "\n",
    "    train_images, val_test_images = train_test_split(images, test_size=n_val + n_test)\n",
    "    val_images, test_images = train_test_split(val_test_images, test_size=n_test)\n",
    "\n",
    "    for img in train_images:\n",
    "        shutil.move(os.path.join(class_dir, img), os.path.join(NEW_MENDELEY_EXPERT1_PATH, 'train', c, img))\n",
    "    for img in val_images:\n",
    "        shutil.move(os.path.join(class_dir, img), os.path.join(NEW_MENDELEY_EXPERT1_PATH, 'val', c, img))\n",
    "    for img in test_images:\n",
    "        shutil.move(os.path.join(class_dir, img), os.path.join(NEW_MENDELEY_EXPERT1_PATH, 'test', c, img))\n"
   ]
  },
  {
   "cell_type": "code",
   "execution_count": null,
   "metadata": {},
   "outputs": [],
   "source": [
    "\n",
    "if not os.path.exists(NEW_OAI_DATASET):\n",
    "    os.makedirs(NEW_OAI_DATASET)\n",
    "TRAIN_PATH = os.path.join(NEW_OAI_DATASET, 'train')\n",
    "if not os.path.exists(TRAIN_PATH):\n",
    "    os.makedirs(TRAIN_PATH)\n",
    "for class_name in classes:\n",
    "    class_dir = os.path.join(ORIGINAL_TRAIN_PATH, class_name)\n",
    "    CLASS_PATH = os.path.join(TRAIN_PATH, class_name)\n",
    "    if not os.path.exists(CLASS_PATH):\n",
    "        os.makedirs(CLASS_PATH)\n",
    "\n",
    "    num_augmentations = 1000 - len(os.listdir(class_dir))\n",
    "    print(f\"Copiando imagenes de la clase {class_name}...\")\n",
    "    for img_name in os.listdir(class_dir):\n",
    "        \n",
    "        \n",
    "        img_path = os.path.join(class_dir, img_name)\n",
    "        img = cv2.imread(img_path)\n",
    "        \n",
    "        # Verificar si la imagen fue leída correctamente\n",
    "        if img is None:\n",
    "            print(f\"Error al leer la imagen {img_path}. Puede que no sea una imagen válida o esté dañada.\")\n",
    "            continue\n",
    "        \n",
    "        \n",
    "        # Copiar la imagen\n",
    "        new_img_path = os.path.join(CLASS_PATH, f\"{class_name}_{img_name}\")\n",
    "        cv2.imwrite(new_img_path, img)\n",
    "\n",
    "\n",
    "    print(f\"Se han copiado {len(os.listdir(CLASS_PATH))} imágenes de la clase {class_name}\")\n",
    "    print(f\"Generando imágenes aumentadas para la clase {class_name}...\")\n",
    "    \n",
    "    while(len(os.listdir(CLASS_PATH)) < 1000):\n",
    "        \n",
    "        probabilidad = ((1000 - len(os.listdir(CLASS_PATH))) / len(os.listdir(CLASS_PATH))) + 0.05\n",
    "        print(f\"Probabilidad: {probabilidad}\")\n",
    "        for img_name in os.listdir(class_dir):\n",
    "            if len(os.listdir(CLASS_PATH)) >= 1000:\n",
    "                break\n",
    "            if np.random.rand() > probabilidad:\n",
    "                continue\n",
    "            \n",
    "            img_path = os.path.join(class_dir, img_name)\n",
    "            img = cv2.imread(img_path)\n",
    "            img_array = img.reshape((1, ) + img.shape)\n",
    "            for batch in data_gen.flow(img_array, batch_size=1, save_to_dir=CLASS_PATH, save_prefix='aug', save_format='png'):\n",
    "                break\n",
    "            \n",
    "            \n",
    "\n",
    "    print(f\"Se han generado {len(os.listdir(CLASS_PATH))} imágenes aumentadas para la clase {class_name}\\n-----------------------------------\\n\")"
   ]
  }
 ],
 "metadata": {
  "kernelspec": {
   "display_name": "Python 3",
   "language": "python",
   "name": "python3"
  },
  "language_info": {
   "codemirror_mode": {
    "name": "ipython",
    "version": 3
   },
   "file_extension": ".py",
   "mimetype": "text/x-python",
   "name": "python",
   "nbconvert_exporter": "python",
   "pygments_lexer": "ipython3",
   "version": "3.10.4"
  }
 },
 "nbformat": 4,
 "nbformat_minor": 2
}
