{
 "cells": [
  {
   "cell_type": "code",
   "execution_count": 1,
   "metadata": {},
   "outputs": [],
   "source": [
    "import os\n",
    "import sys\n",
    "sys.path.append(\"..\")\n",
    "\n",
    "import matplotlib.pyplot as plt\n",
    "import numpy as np\n",
    "import torch\n",
    "import torchvision\n",
    "\n",
    "#from data import loader_train, loader_val, loader_test\n",
    "from train import train_model, test_model\n",
    "from models import getModels\n",
    "from utils import show_img\n",
    "from trainers import Regression, Classification, BinaryClassification\n",
    "from torchvision import datasets, transforms\n",
    "from torch.utils.data import DataLoader\n",
    "from ResNet18 import ResNet, BasicBlock\n",
    "from ResNet18Medium import ResNet18"
   ]
  },
  {
   "cell_type": "code",
   "execution_count": 2,
   "metadata": {},
   "outputs": [
    {
     "name": "stdout",
     "output_type": "stream",
     "text": [
      "Using downloaded and verified file: C:\\Users\\34658\\.medmnist\\chestmnist_224.npz\n",
      "Using downloaded and verified file: C:\\Users\\34658\\.medmnist\\chestmnist_224.npz\n",
      "Using downloaded and verified file: C:\\Users\\34658\\.medmnist\\chestmnist_224.npz\n"
     ]
    }
   ],
   "source": [
    "from medmnist import PneumoniaMNIST, BreastMNIST, RetinaMNIST, DermaMNIST, ChestMNIST, PathMNIST\n",
    "\n",
    "from torch.utils.data import Subset\n",
    "\n",
    "batch_size = 32\n",
    "transfomrms = transforms.Compose([\n",
    "    transforms.Resize((224, 224)),\n",
    "    transforms.ToTensor(),\n",
    "])\n",
    "test_dataset = ChestMNIST(split=\"test\",transform= transfomrms, download=True,size=224)\n",
    "train_dataset = ChestMNIST(split=\"train\", transform= transfomrms,download=True,size=224)\n",
    "val_dataset = ChestMNIST(split=\"val\",transform=transfomrms, download=True,size=224)\n",
    "\n",
    "loader_train = DataLoader(train_dataset, batch_size=batch_size, shuffle=True)\n",
    "loader_val = DataLoader(val_dataset, batch_size=batch_size, shuffle=True)\n",
    "loader_test = DataLoader(val_dataset, batch_size=batch_size, shuffle=True)\n",
    "# Definir el tamaño del subconjunto que deseas usar (por ejemplo, 10%)\n",
    "subset_size = int(0.001 * len(train_dataset))\n",
    "\n",
    "# Crear subconjuntos con índices aleatorios\n",
    "train_indices = torch.randperm(len(train_dataset))[:subset_size]\n",
    "val_indices = torch.randperm(len(val_dataset))[:subset_size*2]\n",
    "test_indices = torch.randperm(len(test_dataset))[:subset_size*2]\n",
    "\n",
    "# Crear los subconjuntos utilizando los índices seleccionados\n",
    "train_subset = Subset(train_dataset, train_indices)\n",
    "val_subset = Subset(val_dataset, val_indices)\n",
    "test_subset = Subset(test_dataset, test_indices)"
   ]
  },
  {
   "cell_type": "code",
   "execution_count": 3,
   "metadata": {},
   "outputs": [
    {
     "name": "stderr",
     "output_type": "stream",
     "text": [
      "Failed to detect the name of this notebook, you can set it manually with the WANDB_NOTEBOOK_NAME environment variable to enable code saving.\n",
      "wandb: Currently logged in as: chermar (chermar-universitat-polit-cnica-de-val-ncia). Use `wandb login --relogin` to force relogin\n"
     ]
    },
    {
     "data": {
      "text/html": [
       "wandb version 0.18.6 is available!  To upgrade, please run:\n",
       " $ pip install wandb --upgrade"
      ],
      "text/plain": [
       "<IPython.core.display.HTML object>"
      ]
     },
     "metadata": {},
     "output_type": "display_data"
    },
    {
     "data": {
      "text/html": [
       "Tracking run with wandb version 0.17.0"
      ],
      "text/plain": [
       "<IPython.core.display.HTML object>"
      ]
     },
     "metadata": {},
     "output_type": "display_data"
    },
    {
     "data": {
      "text/html": [
       "Run data is saved locally in <code>c:\\Users\\34658\\OneDrive\\Escritorio\\Ing informática\\Cuarto\\TFG\\KneeIA_Humans\\IA_KneeXRay\\code\\wandb\\run-20241112_113531-xwp90k7h</code>"
      ],
      "text/plain": [
       "<IPython.core.display.HTML object>"
      ]
     },
     "metadata": {},
     "output_type": "display_data"
    },
    {
     "data": {
      "text/html": [
       "Syncing run <strong><a href='https://wandb.ai/chermar-universitat-polit-cnica-de-val-ncia/Test/runs/xwp90k7h' target=\"_blank\">MyComputer - Tests</a></strong> to <a href='https://wandb.ai/chermar-universitat-polit-cnica-de-val-ncia/Test' target=\"_blank\">Weights & Biases</a> (<a href='https://wandb.me/run' target=\"_blank\">docs</a>)<br/>"
      ],
      "text/plain": [
       "<IPython.core.display.HTML object>"
      ]
     },
     "metadata": {},
     "output_type": "display_data"
    },
    {
     "data": {
      "text/html": [
       " View project at <a href='https://wandb.ai/chermar-universitat-polit-cnica-de-val-ncia/Test' target=\"_blank\">https://wandb.ai/chermar-universitat-polit-cnica-de-val-ncia/Test</a>"
      ],
      "text/plain": [
       "<IPython.core.display.HTML object>"
      ]
     },
     "metadata": {},
     "output_type": "display_data"
    },
    {
     "data": {
      "text/html": [
       " View run at <a href='https://wandb.ai/chermar-universitat-polit-cnica-de-val-ncia/Test/runs/xwp90k7h' target=\"_blank\">https://wandb.ai/chermar-universitat-polit-cnica-de-val-ncia/Test/runs/xwp90k7h</a>"
      ],
      "text/plain": [
       "<IPython.core.display.HTML object>"
      ]
     },
     "metadata": {},
     "output_type": "display_data"
    },
    {
     "data": {
      "text/html": [
       "<button onClick=\"this.nextSibling.style.display='block';this.style.display='none';\">Display W&B run</button><iframe src='https://wandb.ai/chermar-universitat-polit-cnica-de-val-ncia/Test/runs/xwp90k7h?jupyter=true' style='border:none;width:100%;height:420px;display:none;'></iframe>"
      ],
      "text/plain": [
       "<wandb.sdk.wandb_run.Run at 0x2033b95e7a0>"
      ]
     },
     "execution_count": 3,
     "metadata": {},
     "output_type": "execute_result"
    }
   ],
   "source": [
    "# start a new wandb run to track this script\n",
    "import wandb\n",
    "wandb.finish()\n",
    "wandb.init(\n",
    "    # set the wandb project where this run will be logged\n",
    "    project=\"Test\",\n",
    "    name=\"MyComputer - Tests\",\n",
    "\n",
    "    # track hyperparameters and run metadata\n",
    "    config={\n",
    "        \"N_images\" : 1,\n",
    "        \"learning_rate\": 0.001,\n",
    "        \"dataset\": \"Expert 1\",\n",
    "        \"epochs\": 50,\n",
    "    }\n",
    ")\n"
   ]
  },
  {
   "cell_type": "code",
   "execution_count": 4,
   "metadata": {},
   "outputs": [],
   "source": [
    "import os\n",
    "import sys\n",
    "sys.path.append(\"..\")\n",
    "\n",
    "\n",
    "loader_train = DataLoader(train_subset, batch_size=32, shuffle=True)\n",
    "loader_val = DataLoader(val_dataset, batch_size=32, shuffle=True)\n",
    "loader_test = DataLoader(test_subset, batch_size=32, shuffle=True)"
   ]
  },
  {
   "cell_type": "code",
   "execution_count": 60,
   "metadata": {},
   "outputs": [],
   "source": [
    "import lightning.pytorch as pl\n",
    "import torch\n",
    "import torch.nn as nn\n",
    "import torchmetrics as tm\n",
    "from torchmetrics.classification import MulticlassConfusionMatrix\n",
    "import matplotlib.pyplot as plt\n",
    "class LabelClassification(pl.LightningModule):\n",
    "    \"\"\"\n",
    "    Trainer para entrenar un modelo de clasificación multilabel\n",
    "    y de dimension N con valores [0, 1]*N\n",
    "    \"\"\"\n",
    "    def __init__(self, model, device):\n",
    "        super().__init__()\n",
    "        self.save_hyperparameters(ignore=(\"model\",))\n",
    "\n",
    "        self.model = model\n",
    "\n",
    "        self.loss_fn = nn.CrossEntropyLoss()\n",
    "\n",
    "        self.confusion_matrix =  [tm.ConfusionMatrix(num_classes=2, task=\"binary\").to(device) for _ in range(self.model.classes)] #Definir matriz de confusión para clasificación multiclase\n",
    "        self.auc_metric = [tm.AUROC(num_classes=2, task=\"binary\").to(device) for _ in range(self.model.classes)]  # Definir métrica AUROC para clasificación multiclase\n",
    "\n",
    "    def forward(self, x):\n",
    "        return self.model(x)\n",
    "\n",
    "    def training_step(self, x, y):\n",
    "        y = y.float()\n",
    "        y_hat = self.model(x)\n",
    "\n",
    "        loss = self.loss_fn(y_hat, y)\n",
    "        # Calcular métricas\n",
    "        loss.backward()\n",
    "        \n",
    "        for i in range(self.model.classes):\n",
    "            self.auc_metric[i].update(y_hat[:, i], y[:, i])\n",
    "            self.confusion_matrix[i].update(y_hat >= 0.5, y)\n",
    "        \n",
    "\n",
    "        precision, recall, f1_score, ACC, AUC = self.calculate_metrics_from_confusion_matrix()\n",
    "\n",
    "        return {\"loss\": loss, \"ACC\": ACC, \"recall\": recall, \"precision\": precision, \"f1_score\": f1_score, \"AUC\": AUC}\n",
    "\n",
    "    def validation_step(self, x, y):\n",
    "        y = y.float()\n",
    "        y_hat = self.model(x)\n",
    "        loss = self.loss_fn(y_hat, y)\n",
    "        # Obtener la clase predicha\n",
    "        y_pred = torch.argmax(y_hat, dim=1)\n",
    "        # Calcular métricas\n",
    "        for i in range(self.model.classes):\n",
    "            self.auc_metric[i].update(y_hat[:, i], y[:, i])\n",
    "            y_pred = y_hat[:,i] >= 0.5\n",
    "            self.confusion_matrix[i].update(y_pred, y[:, i])\n",
    "\n",
    "        precision, recall, f1_score, ACC, AUC = self.calculate_metrics_from_confusion_matrix()\n",
    "\n",
    "        return {\"loss\": loss, \"ACC\": ACC, \"precision\" : precision, \"recall\": recall, \"f1_score\" : f1_score, \"AUC\": AUC}\n",
    "\n",
    "    def transform_classes(self, y):\n",
    "        # Convertir las clases a un formato de one-hot encoding\n",
    "        return torch.nn.functional.one_hot(y.to(torch.int64), num_classes=self.model.classes).to(float).squeeze()\n",
    "    def restart_epoch(self, plot = False):\n",
    "        if plot:\n",
    "            self.confusion_matrix.plot()\n",
    "            plt.show()\n",
    "        self.confusion_matrix.reset()\n",
    "        for auc_metric in self.auc_metric:\n",
    "            auc_metric.reset()\n",
    "    def calculate_metrics_from_confusion_matrix(self):\n",
    "      confusion_matrix = self.confusion_matrix.compute()\n",
    "      # Verdaderos positivos por clase (diagonal de la matriz)\n",
    "      true_positives = torch.diag(confusion_matrix)\n",
    "\n",
    "      # Predicciones totales por clase (sumar columnas)\n",
    "      predicted_positives = confusion_matrix.sum(dim=0)\n",
    "\n",
    "      # Ejemplos reales por clase (sumar filas)\n",
    "      actual_positives = confusion_matrix.sum(dim=1)\n",
    "\n",
    "      # Calcular Precision, Recall, F1 por clase\n",
    "      precision = (true_positives / (predicted_positives + 1e-8)).mean()  # Añadir pequeña constante para evitar división por 0\n",
    "      recall = (true_positives / (actual_positives + 1e-8)).mean()\n",
    "      f1 = 2 * (precision * recall) / (precision + recall + 1e-8)\n",
    "\n",
    "      # Calcular ACC\n",
    "      ACC = true_positives.sum() / confusion_matrix.sum()\n",
    "      # Calcular el AUC\n",
    "      AUC_vector = [self.auc_metric[i].compute() for i in range(self.model.classes)],\n",
    "      AUC = torch.mean(torch.tensor(AUC_vector))\n",
    "      # Retornar las métricas\n",
    "      return precision, recall, f1, ACC, AUC\n",
    "\n",
    "    def configure_optimizers(self, learning_rate=0.001, betas=(0.9, 0.999), factor=0.1, patience=5):\n",
    "        optimizer = torch.optim.Adam(self.model.parameters(),\n",
    "                                     lr=learning_rate,\n",
    "                                     betas=betas)\n",
    "        scheduler = torch.optim.lr_scheduler.ReduceLROnPlateau(optimizer=optimizer,\n",
    "                                                               factor=factor,\n",
    "                                                               patience=patience)\n",
    "        return optimizer, scheduler\n"
   ]
  },
  {
   "cell_type": "code",
   "execution_count": 56,
   "metadata": {},
   "outputs": [],
   "source": [
    "model = ResNet18(in_channels=1, n_classes = 14)\n",
    "trainer = LabelClassification(model, device=\"cpu\")\n",
    "batch = next(iter(loader_train))\n",
    "x, y = batch\n",
    "y_hat = model(x)\n"
   ]
  },
  {
   "cell_type": "code",
   "execution_count": null,
   "metadata": {},
   "outputs": [
    {
     "data": {
      "image/png": "[encoded data removed]",
      "text/plain": [
       "<Figure size 640x480 with 1 Axes>"
      ]
     },
     "metadata": {},
     "output_type": "display_data"
    }
   ],
   "source": [
    "cm = trainer.confusion_matrix\n",
    "\n",
    "for i in cm:\n",
    "    i.plot()\n",
    "plt.show()"
   ]
  },
  {
   "cell_type": "code",
   "execution_count": 61,
   "metadata": {},
   "outputs": [
    {
     "name": "stdout",
     "output_type": "stream",
     "text": [
      "torch.Size([32, 14]) torch.Size([32, 14])\n",
      "tensor([0, 0, 1, 1, 1, 0, 0, 0, 0, 0, 0, 0, 1, 0], dtype=torch.int32) tensor([-0.2742, -0.2494,  0.1522,  0.0201, -0.2332,  0.1749, -0.0123,  0.2700,\n",
      "        -0.1715,  0.3343,  0.5654, -0.1831, -0.4061, -0.2500],\n",
      "       grad_fn=<SelectBackward0>)\n"
     ]
    },
    {
     "name": "stderr",
     "output_type": "stream",
     "text": [
      "c:\\Users\\34658\\AppData\\Local\\Programs\\Python\\Python310\\lib\\site-packages\\torchmetrics\\utilities\\prints.py:43: UserWarning: No positive samples in targets, true positive value should be meaningless. Returning zero tensor in true positive score\n",
      "  warnings.warn(*args, **kwargs)  # noqa: B028\n"
     ]
    },
    {
     "data": {
      "text/plain": [
       "{'loss': tensor(2.3327, grad_fn=<DivBackward1>),\n",
       " 'ACC': tensor(0.9118),\n",
       " 'recall': tensor(0.4863),\n",
       " 'precision': tensor(0.4679),\n",
       " 'f1_score': tensor(0.4769),\n",
       " 'AUC': tensor(0.2505)}"
      ]
     },
     "execution_count": 61,
     "metadata": {},
     "output_type": "execute_result"
    }
   ],
   "source": [
    "print(y.shape, y_hat.shape)\n",
    "print(y[0], y_hat[0])\n",
    "\n",
    "trainer.training_step(x, y)\n",
    "\n"
   ]
  },
  {
   "cell_type": "code",
   "execution_count": 15,
   "metadata": {},
   "outputs": [
    {
     "ename": "AttributeError",
     "evalue": "'MulticlassConfusionMatrix' object has no attribute 'sum'",
     "output_type": "error",
     "traceback": [
      "\u001b[1;31m---------------------------------------------------------------------------\u001b[0m",
      "\u001b[1;31mAttributeError\u001b[0m                            Traceback (most recent call last)",
      "Cell \u001b[1;32mIn[15], line 8\u001b[0m\n\u001b[0;32m      3\u001b[0m device \u001b[38;5;241m=\u001b[39m torch\u001b[38;5;241m.\u001b[39mdevice(\u001b[38;5;124m\"\u001b[39m\u001b[38;5;124mcuda:0\u001b[39m\u001b[38;5;124m\"\u001b[39m \u001b[38;5;28;01mif\u001b[39;00m torch\u001b[38;5;241m.\u001b[39mcuda\u001b[38;5;241m.\u001b[39mis_available() \u001b[38;5;28;01melse\u001b[39;00m \u001b[38;5;124m\"\u001b[39m\u001b[38;5;124mcpu\u001b[39m\u001b[38;5;124m\"\u001b[39m)\n\u001b[0;32m      4\u001b[0m trainer \u001b[38;5;241m=\u001b[39m LabelClassification(model, device)\n\u001b[1;32m----> 8\u001b[0m \u001b[43mtrain_model\u001b[49m\u001b[43m(\u001b[49m\u001b[43mmodel\u001b[49m\u001b[43m,\u001b[49m\u001b[43m \u001b[49m\u001b[43mloader_train\u001b[49m\u001b[43m,\u001b[49m\u001b[43m \u001b[49m\u001b[43mloader_val\u001b[49m\u001b[43m,\u001b[49m\u001b[43m \u001b[49m\u001b[43mtrainer\u001b[49m\u001b[43m,\u001b[49m\u001b[43m  \u001b[49m\u001b[43mdevice\u001b[49m\u001b[43m,\u001b[49m\u001b[43m \u001b[49m\u001b[43mnum_epochs\u001b[49m\u001b[38;5;241;43m=\u001b[39;49m\u001b[38;5;241;43m1\u001b[39;49m\u001b[43m,\u001b[49m\u001b[43m \u001b[49m\u001b[43mclassification\u001b[49m\u001b[43m \u001b[49m\u001b[38;5;241;43m=\u001b[39;49m\u001b[43m \u001b[49m\u001b[38;5;28;43;01mTrue\u001b[39;49;00m\u001b[43m)\u001b[49m\n\u001b[0;32m      9\u001b[0m test_model(model, loader_test, trainer, device, classification \u001b[38;5;241m=\u001b[39m \u001b[38;5;28;01mTrue\u001b[39;00m)\n",
      "File \u001b[1;32mc:\\Users\\34658\\OneDrive\\Escritorio\\Ing informática\\Cuarto\\TFG\\KneeIA_Humans\\IA_KneeXRay\\code\\train.py:39\u001b[0m, in \u001b[0;36mtrain_model\u001b[1;34m(model, train_loader, val_loader, trainer, device, num_epochs, classification, learning_rate, betas, factor, patience)\u001b[0m\n\u001b[0;32m     37\u001b[0m \u001b[38;5;28;01mwith\u001b[39;00m torch\u001b[38;5;241m.\u001b[39mset_grad_enabled(phase \u001b[38;5;241m==\u001b[39m \u001b[38;5;124m'\u001b[39m\u001b[38;5;124mtrain\u001b[39m\u001b[38;5;124m'\u001b[39m):\n\u001b[0;32m     38\u001b[0m     \u001b[38;5;28;01mif\u001b[39;00m phase \u001b[38;5;241m==\u001b[39m \u001b[38;5;124m'\u001b[39m\u001b[38;5;124mtrain\u001b[39m\u001b[38;5;124m'\u001b[39m:\n\u001b[1;32m---> 39\u001b[0m         res \u001b[38;5;241m=\u001b[39m \u001b[43mtrainer\u001b[49m\u001b[38;5;241;43m.\u001b[39;49m\u001b[43mtraining_step\u001b[49m\u001b[43m(\u001b[49m\u001b[43minputs\u001b[49m\u001b[43m,\u001b[49m\u001b[43m \u001b[49m\u001b[43mlabels\u001b[49m\u001b[43m)\u001b[49m\n\u001b[0;32m     40\u001b[0m         loss \u001b[38;5;241m=\u001b[39m res[\u001b[38;5;124m'\u001b[39m\u001b[38;5;124mloss\u001b[39m\u001b[38;5;124m'\u001b[39m]\n\u001b[0;32m     41\u001b[0m         optimizer\u001b[38;5;241m.\u001b[39mstep()\n",
      "Cell \u001b[1;32mIn[14], line 39\u001b[0m, in \u001b[0;36mLabelClassification.training_step\u001b[1;34m(self, x, y)\u001b[0m\n\u001b[0;32m     35\u001b[0m     \u001b[38;5;28mself\u001b[39m\u001b[38;5;241m.\u001b[39mauc_metric[i]\u001b[38;5;241m.\u001b[39mupdate(y_hat[:, i], y[:, i])\n\u001b[0;32m     36\u001b[0m     \u001b[38;5;28mself\u001b[39m\u001b[38;5;241m.\u001b[39mconfusion_matrix[i]\u001b[38;5;241m.\u001b[39mupdate(y_hat[:, i] \u001b[38;5;241m>\u001b[39m\u001b[38;5;241m=\u001b[39m \u001b[38;5;241m0.5\u001b[39m, y[:, i])\n\u001b[1;32m---> 39\u001b[0m precision, recall, f1_score, ACC, AUC \u001b[38;5;241m=\u001b[39m \u001b[38;5;28;43mself\u001b[39;49m\u001b[38;5;241;43m.\u001b[39;49m\u001b[43mcalculate_metrics_from_confusion_matrix\u001b[49m\u001b[43m(\u001b[49m\u001b[43m)\u001b[49m\n\u001b[0;32m     41\u001b[0m \u001b[38;5;28;01mreturn\u001b[39;00m {\u001b[38;5;124m\"\u001b[39m\u001b[38;5;124mloss\u001b[39m\u001b[38;5;124m\"\u001b[39m: loss, \u001b[38;5;124m\"\u001b[39m\u001b[38;5;124mACC\u001b[39m\u001b[38;5;124m\"\u001b[39m: ACC, \u001b[38;5;124m\"\u001b[39m\u001b[38;5;124mrecall\u001b[39m\u001b[38;5;124m\"\u001b[39m: recall, \u001b[38;5;124m\"\u001b[39m\u001b[38;5;124mprecision\u001b[39m\u001b[38;5;124m\"\u001b[39m: precision, \u001b[38;5;124m\"\u001b[39m\u001b[38;5;124mf1_score\u001b[39m\u001b[38;5;124m\"\u001b[39m: f1_score, \u001b[38;5;124m\"\u001b[39m\u001b[38;5;124mAUC\u001b[39m\u001b[38;5;124m\"\u001b[39m: AUC}\n",
      "Cell \u001b[1;32mIn[14], line 96\u001b[0m, in \u001b[0;36mLabelClassification.calculate_metrics_from_confusion_matrix\u001b[1;34m(self)\u001b[0m\n\u001b[0;32m     94\u001b[0m \u001b[38;5;66;03m# Calcular ACC global\u001b[39;00m\n\u001b[0;32m     95\u001b[0m total_true_positives \u001b[38;5;241m=\u001b[39m \u001b[38;5;28msum\u001b[39m(confusion_matrix[\u001b[38;5;241m1\u001b[39m, \u001b[38;5;241m1\u001b[39m] \u001b[38;5;28;01mfor\u001b[39;00m confusion_matrix \u001b[38;5;129;01min\u001b[39;00m \u001b[38;5;28mself\u001b[39m\u001b[38;5;241m.\u001b[39mconfusion_matrix)\n\u001b[1;32m---> 96\u001b[0m total_samples \u001b[38;5;241m=\u001b[39m \u001b[38;5;28;43msum\u001b[39;49m\u001b[43m(\u001b[49m\u001b[43mconfusion_matrix\u001b[49m\u001b[38;5;241;43m.\u001b[39;49m\u001b[43msum\u001b[49m\u001b[43m(\u001b[49m\u001b[43m)\u001b[49m\u001b[43m \u001b[49m\u001b[38;5;28;43;01mfor\u001b[39;49;00m\u001b[43m \u001b[49m\u001b[43mconfusion_matrix\u001b[49m\u001b[43m \u001b[49m\u001b[38;5;129;43;01min\u001b[39;49;00m\u001b[43m \u001b[49m\u001b[38;5;28;43mself\u001b[39;49m\u001b[38;5;241;43m.\u001b[39;49m\u001b[43mconfusion_matrix\u001b[49m\u001b[43m)\u001b[49m\n\u001b[0;32m     97\u001b[0m ACC \u001b[38;5;241m=\u001b[39m total_true_positives \u001b[38;5;241m/\u001b[39m total_samples\n\u001b[0;32m     99\u001b[0m \u001b[38;5;66;03m# Calcular AUC promedio\u001b[39;00m\n",
      "Cell \u001b[1;32mIn[14], line 96\u001b[0m, in \u001b[0;36m<genexpr>\u001b[1;34m(.0)\u001b[0m\n\u001b[0;32m     94\u001b[0m \u001b[38;5;66;03m# Calcular ACC global\u001b[39;00m\n\u001b[0;32m     95\u001b[0m total_true_positives \u001b[38;5;241m=\u001b[39m \u001b[38;5;28msum\u001b[39m(confusion_matrix[\u001b[38;5;241m1\u001b[39m, \u001b[38;5;241m1\u001b[39m] \u001b[38;5;28;01mfor\u001b[39;00m confusion_matrix \u001b[38;5;129;01min\u001b[39;00m \u001b[38;5;28mself\u001b[39m\u001b[38;5;241m.\u001b[39mconfusion_matrix)\n\u001b[1;32m---> 96\u001b[0m total_samples \u001b[38;5;241m=\u001b[39m \u001b[38;5;28msum\u001b[39m(\u001b[43mconfusion_matrix\u001b[49m\u001b[38;5;241;43m.\u001b[39;49m\u001b[43msum\u001b[49m() \u001b[38;5;28;01mfor\u001b[39;00m confusion_matrix \u001b[38;5;129;01min\u001b[39;00m \u001b[38;5;28mself\u001b[39m\u001b[38;5;241m.\u001b[39mconfusion_matrix)\n\u001b[0;32m     97\u001b[0m ACC \u001b[38;5;241m=\u001b[39m total_true_positives \u001b[38;5;241m/\u001b[39m total_samples\n\u001b[0;32m     99\u001b[0m \u001b[38;5;66;03m# Calcular AUC promedio\u001b[39;00m\n",
      "File \u001b[1;32mc:\\Users\\34658\\AppData\\Local\\Programs\\Python\\Python310\\lib\\site-packages\\torch\\nn\\modules\\module.py:1709\u001b[0m, in \u001b[0;36mModule.__getattr__\u001b[1;34m(self, name)\u001b[0m\n\u001b[0;32m   1707\u001b[0m     \u001b[38;5;28;01mif\u001b[39;00m name \u001b[38;5;129;01min\u001b[39;00m modules:\n\u001b[0;32m   1708\u001b[0m         \u001b[38;5;28;01mreturn\u001b[39;00m modules[name]\n\u001b[1;32m-> 1709\u001b[0m \u001b[38;5;28;01mraise\u001b[39;00m \u001b[38;5;167;01mAttributeError\u001b[39;00m(\u001b[38;5;124mf\u001b[39m\u001b[38;5;124m\"\u001b[39m\u001b[38;5;124m'\u001b[39m\u001b[38;5;132;01m{\u001b[39;00m\u001b[38;5;28mtype\u001b[39m(\u001b[38;5;28mself\u001b[39m)\u001b[38;5;241m.\u001b[39m\u001b[38;5;18m__name__\u001b[39m\u001b[38;5;132;01m}\u001b[39;00m\u001b[38;5;124m'\u001b[39m\u001b[38;5;124m object has no attribute \u001b[39m\u001b[38;5;124m'\u001b[39m\u001b[38;5;132;01m{\u001b[39;00mname\u001b[38;5;132;01m}\u001b[39;00m\u001b[38;5;124m'\u001b[39m\u001b[38;5;124m\"\u001b[39m)\n",
      "\u001b[1;31mAttributeError\u001b[0m: 'MulticlassConfusionMatrix' object has no attribute 'sum'"
     ]
    }
   ],
   "source": [
    "#train a model\n",
    "model =  ResNet(img_channels=1, num_layers=18, block=BasicBlock, num_classes=14)\n",
    "device = torch.device(\"cuda:0\" if torch.cuda.is_available() else \"cpu\")\n",
    "trainer = LabelClassification(model, device)\n",
    "\n",
    "\n",
    "\n",
    "train_model(model, loader_train, loader_val, trainer,  device, num_epochs=1, classification = True)\n",
    "test_model(model, loader_test, trainer, device, classification = True)"
   ]
  },
  {
   "cell_type": "code",
   "execution_count": null,
   "metadata": {},
   "outputs": [],
   "source": [
    "test_model(model, loader_test, trainer, device, classification = True)"
   ]
  }
 ],
 "metadata": {
  "kernelspec": {
   "display_name": "Python 3",
   "language": "python",
   "name": "python3"
  },
  "language_info": {
   "codemirror_mode": {
    "name": "ipython",
    "version": 3
   },
   "file_extension": ".py",
   "mimetype": "text/x-python",
   "name": "python",
   "nbconvert_exporter": "python",
   "pygments_lexer": "ipython3",
   "version": "3.10.4"
  }
 },
 "nbformat": 4,
 "nbformat_minor": 2
}
