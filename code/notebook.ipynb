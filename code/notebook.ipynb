{
 "cells": [
  {
   "cell_type": "code",
   "execution_count": 1,
   "metadata": {},
   "outputs": [],
   "source": [
    "import os\n",
    "import sys\n",
    "sys.path.append(\"..\")\n",
    "\n",
    "import matplotlib.pyplot as plt\n",
    "import numpy as np\n",
    "import torch\n",
    "import torchvision\n",
    "\n",
    "from data import loader_train, loader_val, loader_test\n",
    "from train import train_model, test_model\n",
    "from models import getModels\n",
    "from utils import show_img\n",
    "from trainers import Regression, Classification"
   ]
  },
  {
   "cell_type": "code",
   "execution_count": 2,
   "metadata": {},
   "outputs": [
    {
     "name": "stderr",
     "output_type": "stream",
     "text": [
      "Failed to detect the name of this notebook, you can set it manually with the WANDB_NOTEBOOK_NAME environment variable to enable code saving.\n",
      "wandb: Currently logged in as: chermar (chermar-universitat-polit-cnica-de-val-ncia). Use `wandb login --relogin` to force relogin\n"
     ]
    },
    {
     "data": {
      "text/html": [
       "wandb version 0.18.3 is available!  To upgrade, please run:\n",
       " $ pip install wandb --upgrade"
      ],
      "text/plain": [
       "<IPython.core.display.HTML object>"
      ]
     },
     "metadata": {},
     "output_type": "display_data"
    },
    {
     "data": {
      "text/html": [
       "Tracking run with wandb version 0.17.0"
      ],
      "text/plain": [
       "<IPython.core.display.HTML object>"
      ]
     },
     "metadata": {},
     "output_type": "display_data"
    },
    {
     "data": {
      "text/html": [
       "Run data is saved locally in <code>c:\\Users\\34658\\OneDrive\\Escritorio\\Ing informática\\Cuarto\\TFG\\KneeIA_Humans\\IA_KneeXRay\\code\\wandb\\run-20241013_213354-nh8plbdq</code>"
      ],
      "text/plain": [
       "<IPython.core.display.HTML object>"
      ]
     },
     "metadata": {},
     "output_type": "display_data"
    },
    {
     "data": {
      "text/html": [
       "Syncing run <strong><a href='https://wandb.ai/chermar-universitat-polit-cnica-de-val-ncia/Test/runs/nh8plbdq' target=\"_blank\">MyComputer - Tests</a></strong> to <a href='https://wandb.ai/chermar-universitat-polit-cnica-de-val-ncia/Test' target=\"_blank\">Weights & Biases</a> (<a href='https://wandb.me/run' target=\"_blank\">docs</a>)<br/>"
      ],
      "text/plain": [
       "<IPython.core.display.HTML object>"
      ]
     },
     "metadata": {},
     "output_type": "display_data"
    },
    {
     "data": {
      "text/html": [
       " View project at <a href='https://wandb.ai/chermar-universitat-polit-cnica-de-val-ncia/Test' target=\"_blank\">https://wandb.ai/chermar-universitat-polit-cnica-de-val-ncia/Test</a>"
      ],
      "text/plain": [
       "<IPython.core.display.HTML object>"
      ]
     },
     "metadata": {},
     "output_type": "display_data"
    },
    {
     "data": {
      "text/html": [
       " View run at <a href='https://wandb.ai/chermar-universitat-polit-cnica-de-val-ncia/Test/runs/nh8plbdq' target=\"_blank\">https://wandb.ai/chermar-universitat-polit-cnica-de-val-ncia/Test/runs/nh8plbdq</a>"
      ],
      "text/plain": [
       "<IPython.core.display.HTML object>"
      ]
     },
     "metadata": {},
     "output_type": "display_data"
    },
    {
     "data": {
      "text/html": [
       "<button onClick=\"this.nextSibling.style.display='block';this.style.display='none';\">Display W&B run</button><iframe src='https://wandb.ai/chermar-universitat-polit-cnica-de-val-ncia/Test/runs/nh8plbdq?jupyter=true' style='border:none;width:100%;height:420px;display:none;'></iframe>"
      ],
      "text/plain": [
       "<wandb.sdk.wandb_run.Run at 0x1d3a306be20>"
      ]
     },
     "execution_count": 2,
     "metadata": {},
     "output_type": "execute_result"
    }
   ],
   "source": [
    "# start a new wandb run to track this script\n",
    "import wandb\n",
    "wandb.finish()\n",
    "wandb.init(\n",
    "    # set the wandb project where this run will be logged\n",
    "    project=\"Test\",\n",
    "    name=\"MyComputer - Tests\",\n",
    "\n",
    "    # track hyperparameters and run metadata\n",
    "    config={\n",
    "        \"N_images\" : 1,\n",
    "        \"learning_rate\": 0.001,\n",
    "        \"dataset\": \"Expert 1\",\n",
    "        \"epochs\": 50,\n",
    "    }\n",
    ")\n"
   ]
  },
  {
   "cell_type": "code",
   "execution_count": 3,
   "metadata": {},
   "outputs": [
    {
     "name": "stderr",
     "output_type": "stream",
     "text": [
      "c:\\Users\\34658\\AppData\\Local\\Programs\\Python\\Python310\\lib\\site-packages\\torchvision\\models\\_utils.py:208: UserWarning: The parameter 'pretrained' is deprecated since 0.13 and may be removed in the future, please use 'weights' instead.\n",
      "  warnings.warn(\n",
      "c:\\Users\\34658\\AppData\\Local\\Programs\\Python\\Python310\\lib\\site-packages\\torchvision\\models\\_utils.py:223: UserWarning: Arguments other than a weight enum or `None` for 'weights' are deprecated since 0.13 and may be removed in the future. The current behavior is equivalent to passing `weights=ResNet18_Weights.IMAGENET1K_V1`. You can also use `weights=ResNet18_Weights.DEFAULT` to get the most up-to-date weights.\n",
      "  warnings.warn(msg)\n"
     ]
    },
    {
     "ename": "TypeError",
     "evalue": "'NoneType' object is not subscriptable",
     "output_type": "error",
     "traceback": [
      "\u001b[1;31m---------------------------------------------------------------------------\u001b[0m",
      "\u001b[1;31mTypeError\u001b[0m                                 Traceback (most recent call last)",
      "Cell \u001b[1;32mIn[3], line 9\u001b[0m\n\u001b[0;32m      6\u001b[0m optimizer \u001b[38;5;241m=\u001b[39m torch\u001b[38;5;241m.\u001b[39moptim\u001b[38;5;241m.\u001b[39mAdam(model\u001b[38;5;241m.\u001b[39mparameters(), lr\u001b[38;5;241m=\u001b[39m\u001b[38;5;241m0.001\u001b[39m)\n\u001b[0;32m      8\u001b[0m train_model(model, loader_train, loader_val, trainer, optimizer, device, num_epochs\u001b[38;5;241m=\u001b[39m\u001b[38;5;241m1\u001b[39m, classification \u001b[38;5;241m=\u001b[39m \u001b[38;5;28;01mTrue\u001b[39;00m)\n\u001b[1;32m----> 9\u001b[0m \u001b[43mtest_model\u001b[49m\u001b[43m(\u001b[49m\u001b[43mmodel\u001b[49m\u001b[43m,\u001b[49m\u001b[43m \u001b[49m\u001b[43mloader_test\u001b[49m\u001b[43m,\u001b[49m\u001b[43m \u001b[49m\u001b[43mtrainer\u001b[49m\u001b[43m,\u001b[49m\u001b[43m \u001b[49m\u001b[43mdevice\u001b[49m\u001b[43m,\u001b[49m\u001b[43m \u001b[49m\u001b[43mclassification\u001b[49m\u001b[43m \u001b[49m\u001b[38;5;241;43m=\u001b[39;49m\u001b[43m \u001b[49m\u001b[38;5;28;43;01mTrue\u001b[39;49;00m\u001b[43m)\u001b[49m\n",
      "File \u001b[1;32mc:\\Users\\34658\\OneDrive\\Escritorio\\Ing informática\\Cuarto\\TFG\\KneeIA_Humans\\IA_KneeXRay\\code\\train.py:94\u001b[0m, in \u001b[0;36mtest_model\u001b[1;34m(model, test_loader, trainer, device, classification)\u001b[0m\n\u001b[0;32m     92\u001b[0m \u001b[38;5;28;01mwith\u001b[39;00m torch\u001b[38;5;241m.\u001b[39mno_grad():\n\u001b[0;32m     93\u001b[0m     res \u001b[38;5;241m=\u001b[39m trainer\u001b[38;5;241m.\u001b[39mtest_step(inputs, labels)\n\u001b[1;32m---> 94\u001b[0m     loss \u001b[38;5;241m=\u001b[39m \u001b[43mres\u001b[49m\u001b[43m[\u001b[49m\u001b[38;5;124;43m'\u001b[39;49m\u001b[38;5;124;43mloss\u001b[39;49m\u001b[38;5;124;43m'\u001b[39;49m\u001b[43m]\u001b[49m\n\u001b[0;32m     96\u001b[0m     \u001b[38;5;66;03m# Calcular promedios\u001b[39;00m\n\u001b[0;32m     97\u001b[0m     epoch_loss \u001b[38;5;241m+\u001b[39m\u001b[38;5;241m=\u001b[39m loss\u001b[38;5;241m.\u001b[39mitem()\n",
      "\u001b[1;31mTypeError\u001b[0m: 'NoneType' object is not subscriptable"
     ]
    }
   ],
   "source": [
    "#train a model\n",
    "model = getModels()[\"ResNet18Classification\"](num_classes = 5, pretrained=True)\n",
    "device = torch.device(\"cuda:0\" if torch.cuda.is_available() else \"cpu\")\n",
    "trainer = Classification(model, device)\n",
    "\n",
    "optimizer = torch.optim.Adam(model.parameters(), lr=0.001)\n",
    "\n",
    "train_model(model, loader_train, loader_val, trainer, optimizer, device, num_epochs=1, classification = True)\n",
    "test_model(model, loader_test, trainer, device, classification = True)"
   ]
  },
  {
   "cell_type": "code",
   "execution_count": 8,
   "metadata": {},
   "outputs": [],
   "source": [
    "# Función para entrenar el modelo\n",
    "import wandb\n",
    "import torch\n",
    "\n",
    "def train_model(model, train_loader, val_loader, trainer, optimizer, device, num_epochs=25, classification=True):\n",
    "    \"\"\"\n",
    "    Train the given model\n",
    "    \"\"\"\n",
    "    model.to(device)\n",
    "    optimizer = trainer.configure_optimizers()\n",
    "    scheduler = trainer.configure_scheduler(optimizer)\n",
    "\n",
    "    for epoch in range(num_epochs):\n",
    "\n",
    "\n",
    "        # Training and validation phases\n",
    "        for phase in ['train', 'val']:\n",
    "            if phase == 'train':\n",
    "                model.train()\n",
    "                loader = train_loader\n",
    "            else:\n",
    "                model.eval()\n",
    "                loader = val_loader\n",
    "\n",
    "            epoch_loss = 0.0\n",
    "            avg_loss = 0.0\n",
    "\n",
    "\n",
    "            for iteration, batch in enumerate(loader):\n",
    "                # Iterar sobre los batches\n",
    "                inputs, labels = batch\n",
    "                inputs = inputs.to(device)\n",
    "\n",
    "                labels = labels.to(device) if classification else labels.to(device).float()\n",
    "\n",
    "                optimizer.zero_grad()\n",
    "\n",
    "                with torch.set_grad_enabled(phase == 'train'):\n",
    "                    if phase == 'train':\n",
    "                        res = trainer.validation_step(inputs, labels)\n",
    "                        loss = res['loss']\n",
    "                        optimizer.step()\n",
    "                    else:\n",
    "                        with torch.no_grad():\n",
    "                            res = trainer.validation_step(inputs, labels)\n",
    "                            loss = res['loss']\n",
    "\n",
    "                # Extraer valores escalares\n",
    "                loss_value = loss.item()\n",
    "                accuracy_value = res['accuracy'].item()\n",
    "                recall_value = res['recall'].item()\n",
    "                precision_value = res['precision'].item()\n",
    "                f1_score_value = res['f1_score'].item()\n",
    "\n",
    "                # Calcular promedios\n",
    "                epoch_loss += loss_value\n",
    "                avg_loss = epoch_loss / (iteration + 1)\n",
    "\n",
    "    \n",
    "                if phase == 'train':\n",
    "                    wandb.log({\"train_loss\": avg_loss, \"train_acc\": accuracy_value,\n",
    "                                \"train_recall\": recall_value, \"train_precision\": precision_value,\n",
    "                                \"train_f1_score\": f1_score_value, \"epoch\": epoch, \"progress\" : iteration / len(loader)})\n",
    "                else:\n",
    "                    wandb.log({\"val_loss\": avg_loss, \"val_acc\": accuracy_value,\n",
    "                                \"val_recall\": recall_value, \"val_precision\": precision_value,\n",
    "                                \"val_f1_score\": f1_score_value, \"epoch\": epoch})\n",
    "\n",
    "            # Calcular métricas promedio por época\n",
    "            trainer.restart_epoch()\n",
    "\n",
    "            # Ajustar el scheduler después de la fase de validación\n",
    "            if phase == 'val':\n",
    "                scheduler.step(avg_loss)\n",
    "\n",
    "def test_model_2(model, test_loader, trainer, device, classification=True):\n",
    "    \"\"\"\n",
    "    Test the given model\n",
    "    \"\"\"\n",
    "    model.eval()\n",
    "    model.to(device)\n",
    "\n",
    "    epoch_loss = 0.0\n",
    "    avg_loss = 0.0\n",
    "\n",
    "    for batch in test_loader:\n",
    "        inputs, labels = batch\n",
    "        inputs = inputs.to(device)\n",
    "        \n",
    "        labels = labels.to(device) if classification else labels.to(device).float()\n",
    "\n",
    "        with torch.no_grad():\n",
    "            res = trainer.validation_step(inputs, labels)\n",
    "            loss = res['loss']\n",
    "\n",
    "            # Calcular promedios\n",
    "            epoch_loss += loss.item()\n",
    "\n",
    "    avg_loss = epoch_loss / len(test_loader)\n",
    "    precision_value, recall_value, f1_score_value, accuracy_value = trainer.calculate_metrics_from_confusion_matrix()\n",
    "\n",
    "    wandb.log({\"test_loss\": avg_loss, \"test_acc\": accuracy_value.item(),\n",
    "                \"test_recall\": recall_value.item(), \"test_precision\": precision_value.item(),\n",
    "                \"test_f1_score\": f1_score_value.item()})\n",
    "    \n",
    "    print(f\"Test model {model.__class__.__name__} - Loss: {avg_loss}, Accuracy: {accuracy_value.item()}, Recall: {recall_value.item()}, Precision: {precision_value.item()}, F1 Score: {f1_score_value.item()}\")\n",
    "\n",
    "    trainer.restart_epoch(plot = True)"
   ]
  },
  {
   "cell_type": "code",
   "execution_count": 9,
   "metadata": {},
   "outputs": [
    {
     "name": "stdout",
     "output_type": "stream",
     "text": [
      "Test model ResNet18Classification - Loss: 1.1556814496333783, Accuracy: 0.473300963640213, Recall: 0.46273964643478394, Precision: 0.41878026723861694, F1 Score: 0.4396638870239258\n"
     ]
    },
    {
     "data": {
      "image/png": "[encoded data removed]",
      "text/plain": [
       "<Figure size 640x480 with 1 Axes>"
      ]
     },
     "metadata": {},
     "output_type": "display_data"
    }
   ],
   "source": [
    "test_model_2(model, loader_test, trainer, device, classification = True)"
   ]
  }
 ],
 "metadata": {
  "kernelspec": {
   "display_name": "Python 3",
   "language": "python",
   "name": "python3"
  },
  "language_info": {
   "codemirror_mode": {
    "name": "ipython",
    "version": 3
   },
   "file_extension": ".py",
   "mimetype": "text/x-python",
   "name": "python",
   "nbconvert_exporter": "python",
   "pygments_lexer": "ipython3",
   "version": "3.10.4"
  }
 },
 "nbformat": 4,
 "nbformat_minor": 2
}
